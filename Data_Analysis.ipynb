{
 "cells": [
  {
   "cell_type": "code",
   "execution_count": 1,
   "metadata": {},
   "outputs": [],
   "source": [
    "import pandas as pd\n",
    "import numpy as np\n",
    "import matplotlib.pyplot as plt\n",
    "\n",
    "from sklearn.model_selection import train_test_split\n",
    "from os import listdir,rename"
   ]
  },
  {
   "cell_type": "code",
   "execution_count": null,
   "metadata": {},
   "outputs": [],
   "source": [
    "#Do not run!\n",
    "\"\"\"\n",
    "#file_list = set(listdir(\"C:/Users/paul8/Documents/Uni/7. Thesis/Thesis/paul\"))\n",
    "db = pd.read_csv(\"C:/Users/paul8/Downloads/DB.csv\",sep=\";\")\n",
    "#file_list_db = set(db.File)\n",
    "#len(file_list.intersection(file_list_db))\n",
    "def make_date(s):\n",
    "    s = str(s)\n",
    "    if len(s) == 5:\n",
    "        s = \"0\" + s\n",
    "    return s[:2] + \"/\" + s[2:4] + \"/20\" + s[4:]\n",
    "db[\"Invoice Date\"] = db[\"Invoice Date\"].map(make_date)\n",
    "db[\"Amount\"] = db[\"Amount\"].map(lambda x:x.replace(\",\",\".\"))\n",
    "db[\"Invoice Number\"] = db[\"Invoice Number\"].map(str)\n",
    "#db.to_csv(\"C:/Users/paul8/Downloads/DB.csv\",sep=\";\",index=False)\n",
    "\"\"\"    "
   ]
  },
  {
   "cell_type": "code",
   "execution_count": 2,
   "metadata": {},
   "outputs": [
    {
     "data": {
      "text/html": [
       "<div>\n",
       "<style scoped>\n",
       "    .dataframe tbody tr th:only-of-type {\n",
       "        vertical-align: middle;\n",
       "    }\n",
       "\n",
       "    .dataframe tbody tr th {\n",
       "        vertical-align: top;\n",
       "    }\n",
       "\n",
       "    .dataframe thead th {\n",
       "        text-align: right;\n",
       "    }\n",
       "</style>\n",
       "<table border=\"1\" class=\"dataframe\">\n",
       "  <thead>\n",
       "    <tr style=\"text-align: right;\">\n",
       "      <th></th>\n",
       "      <th>File</th>\n",
       "      <th>Vendor</th>\n",
       "      <th>Invoice Number</th>\n",
       "      <th>Amount</th>\n",
       "      <th>Invoice Date</th>\n",
       "    </tr>\n",
       "  </thead>\n",
       "  <tbody>\n",
       "    <tr>\n",
       "      <th>0</th>\n",
       "      <td>AH_Siedle_Reifenwechsel_24042020.pdf</td>\n",
       "      <td>Autohaus Siedle GmbH &amp; Co. KG</td>\n",
       "      <td>110024940</td>\n",
       "      <td>79.85</td>\n",
       "      <td>04/24/2020</td>\n",
       "    </tr>\n",
       "    <tr>\n",
       "      <th>1</th>\n",
       "      <td>ALU_RAHMEN_Rechnung_27112023.pdf</td>\n",
       "      <td>Alurahmen24</td>\n",
       "      <td>1164/11/2023</td>\n",
       "      <td>23.7</td>\n",
       "      <td>11/27/2023</td>\n",
       "    </tr>\n",
       "    <tr>\n",
       "      <th>2</th>\n",
       "      <td>Amazon_GaN_Charger_13102022.pdf</td>\n",
       "      <td>Amazon Services Europe S.à r.l.</td>\n",
       "      <td>DS-ASE-INV-DE-2022-320325323</td>\n",
       "      <td>47.99</td>\n",
       "      <td>10/13/2022</td>\n",
       "    </tr>\n",
       "    <tr>\n",
       "      <th>3</th>\n",
       "      <td>Amazon_USB_Flash_Drive_24102022.pdf</td>\n",
       "      <td>Amazon EU S.à r.l.</td>\n",
       "      <td>DE261LJS0AEUI</td>\n",
       "      <td>20.39</td>\n",
       "      <td>10/24/2022</td>\n",
       "    </tr>\n",
       "    <tr>\n",
       "      <th>4</th>\n",
       "      <td>Aral_Center_Hildesheim_05032020.pdf</td>\n",
       "      <td>Aral Center Hildesheim</td>\n",
       "      <td>4605/009/00003</td>\n",
       "      <td>68.84</td>\n",
       "      <td>03/05/2020</td>\n",
       "    </tr>\n",
       "  </tbody>\n",
       "</table>\n",
       "</div>"
      ],
      "text/plain": [
       "                                   File                           Vendor  \\\n",
       "0  AH_Siedle_Reifenwechsel_24042020.pdf    Autohaus Siedle GmbH & Co. KG   \n",
       "1      ALU_RAHMEN_Rechnung_27112023.pdf                      Alurahmen24   \n",
       "2       Amazon_GaN_Charger_13102022.pdf  Amazon Services Europe S.à r.l.   \n",
       "3   Amazon_USB_Flash_Drive_24102022.pdf               Amazon EU S.à r.l.   \n",
       "4   Aral_Center_Hildesheim_05032020.pdf           Aral Center Hildesheim   \n",
       "\n",
       "                 Invoice Number Amount Invoice Date  \n",
       "0                     110024940  79.85   04/24/2020  \n",
       "1                  1164/11/2023   23.7   11/27/2023  \n",
       "2  DS-ASE-INV-DE-2022-320325323  47.99   10/13/2022  \n",
       "3                 DE261LJS0AEUI  20.39   10/24/2022  \n",
       "4                4605/009/00003  68.84   03/05/2020  "
      ]
     },
     "execution_count": 2,
     "metadata": {},
     "output_type": "execute_result"
    }
   ],
   "source": [
    "db = pd.read_csv(\"C:/Users/paul8/Downloads/DB_update.csv\",sep=\";\")\n",
    "db[\"Amount\"] = db[\"Amount\"].map(str)\n",
    "db[\"Invoice Number\"] = db[\"Invoice Number\"].map(str)\n",
    "db.head()"
   ]
  },
  {
   "cell_type": "code",
   "execution_count": 3,
   "metadata": {},
   "outputs": [
    {
     "name": "stdout",
     "output_type": "stream",
     "text": [
      "160\n"
     ]
    },
    {
     "data": {
      "text/html": [
       "<div>\n",
       "<style scoped>\n",
       "    .dataframe tbody tr th:only-of-type {\n",
       "        vertical-align: middle;\n",
       "    }\n",
       "\n",
       "    .dataframe tbody tr th {\n",
       "        vertical-align: top;\n",
       "    }\n",
       "\n",
       "    .dataframe thead th {\n",
       "        text-align: right;\n",
       "    }\n",
       "</style>\n",
       "<table border=\"1\" class=\"dataframe\">\n",
       "  <thead>\n",
       "    <tr style=\"text-align: right;\">\n",
       "      <th></th>\n",
       "      <th>File</th>\n",
       "      <th>Extracted Vendor</th>\n",
       "      <th>Extracted Invoice Number</th>\n",
       "      <th>Extracted Amount</th>\n",
       "      <th>Extracted Invoice Date</th>\n",
       "    </tr>\n",
       "  </thead>\n",
       "  <tbody>\n",
       "    <tr>\n",
       "      <th>0</th>\n",
       "      <td>AH_Siedle_Reifenwechsel_24042020.pdf</td>\n",
       "      <td>Autohaus Siedle GmbH &amp; Co. KG</td>\n",
       "      <td>110024940</td>\n",
       "      <td>79.85</td>\n",
       "      <td>04/24/2020 00:00:00</td>\n",
       "    </tr>\n",
       "    <tr>\n",
       "      <th>1</th>\n",
       "      <td>ALU_RAHMEN_Rechnung_27112023.pdf</td>\n",
       "      <td>NaN</td>\n",
       "      <td>1164/11/2023</td>\n",
       "      <td>23.70</td>\n",
       "      <td>11/27/2023 00:00:00</td>\n",
       "    </tr>\n",
       "    <tr>\n",
       "      <th>2</th>\n",
       "      <td>Amazon_GaN_Charger_13102022.pdf</td>\n",
       "      <td>Amazon Services Europe S.à r.l.,</td>\n",
       "      <td>DS-ASE-INV-DE-2022-320325323</td>\n",
       "      <td>47.99</td>\n",
       "      <td>10/13/2022 00:00:00</td>\n",
       "    </tr>\n",
       "    <tr>\n",
       "      <th>3</th>\n",
       "      <td>Amazon_USB_Flash_Drive_24102022.pdf</td>\n",
       "      <td>Amazon EU S.à r.l.</td>\n",
       "      <td>DE261LJS0AEUI</td>\n",
       "      <td>20.39</td>\n",
       "      <td>10/24/2022 00:00:00</td>\n",
       "    </tr>\n",
       "    <tr>\n",
       "      <th>4</th>\n",
       "      <td>Aral_Center_Hildesheim_05032020.pdf</td>\n",
       "      <td>Aral- CENTER</td>\n",
       "      <td></td>\n",
       "      <td>68.84</td>\n",
       "      <td>03/05/2020 00:00:00</td>\n",
       "    </tr>\n",
       "  </tbody>\n",
       "</table>\n",
       "</div>"
      ],
      "text/plain": [
       "                                   File                  Extracted Vendor  \\\n",
       "0  AH_Siedle_Reifenwechsel_24042020.pdf     Autohaus Siedle GmbH & Co. KG   \n",
       "1      ALU_RAHMEN_Rechnung_27112023.pdf                               NaN   \n",
       "2       Amazon_GaN_Charger_13102022.pdf  Amazon Services Europe S.à r.l.,   \n",
       "3   Amazon_USB_Flash_Drive_24102022.pdf                Amazon EU S.à r.l.   \n",
       "4   Aral_Center_Hildesheim_05032020.pdf                      Aral- CENTER   \n",
       "\n",
       "        Extracted Invoice Number  Extracted Amount Extracted Invoice Date  \n",
       "0                      110024940             79.85    04/24/2020 00:00:00  \n",
       "1                   1164/11/2023             23.70    11/27/2023 00:00:00  \n",
       "2   DS-ASE-INV-DE-2022-320325323             47.99    10/13/2022 00:00:00  \n",
       "3                  DE261LJS0AEUI             20.39    10/24/2022 00:00:00  \n",
       "4                                            68.84    03/05/2020 00:00:00  "
      ]
     },
     "execution_count": 3,
     "metadata": {},
     "output_type": "execute_result"
    }
   ],
   "source": [
    "data = pd.DataFrame(columns=[\"File\",\"Extracted Vendor\",\"Extracted Invoice Number\",\"Extracted Amount\",\"Extracted Invoice Date\"])\n",
    "folder = \"./Results/\"\n",
    "files = listdir(folder)\n",
    "print(len(files))\n",
    "for file in files:\n",
    "    #print(file)\n",
    "    path = folder + file\n",
    "    data_new = pd.read_csv(path, sep=';', header=None)\n",
    "    data_new.columns = [\"File\",\"Extracted Vendor\",\"Extracted Invoice Number\",\"Extracted Amount\",\"Extracted Invoice Date\"]\n",
    "    #print(data_new.dtypes)\n",
    "    data = data._append(data_new,ignore_index=True)\n",
    "data.head()"
   ]
  },
  {
   "cell_type": "code",
   "execution_count": 4,
   "metadata": {},
   "outputs": [
    {
     "data": {
      "text/html": [
       "<div>\n",
       "<style scoped>\n",
       "    .dataframe tbody tr th:only-of-type {\n",
       "        vertical-align: middle;\n",
       "    }\n",
       "\n",
       "    .dataframe tbody tr th {\n",
       "        vertical-align: top;\n",
       "    }\n",
       "\n",
       "    .dataframe thead th {\n",
       "        text-align: right;\n",
       "    }\n",
       "</style>\n",
       "<table border=\"1\" class=\"dataframe\">\n",
       "  <thead>\n",
       "    <tr style=\"text-align: right;\">\n",
       "      <th></th>\n",
       "      <th>File</th>\n",
       "      <th>Extracted Vendor</th>\n",
       "      <th>Extracted Invoice Number</th>\n",
       "      <th>Extracted Amount</th>\n",
       "      <th>Extracted Invoice Date</th>\n",
       "    </tr>\n",
       "  </thead>\n",
       "  <tbody>\n",
       "    <tr>\n",
       "      <th>0</th>\n",
       "      <td>AH_Siedle_Reifenwechsel_24042020.pdf</td>\n",
       "      <td>Autohaus Siedle GmbH &amp; Co. KG</td>\n",
       "      <td>110024940</td>\n",
       "      <td>79.85</td>\n",
       "      <td>04/24/2020</td>\n",
       "    </tr>\n",
       "    <tr>\n",
       "      <th>1</th>\n",
       "      <td>ALU_RAHMEN_Rechnung_27112023.pdf</td>\n",
       "      <td>nan</td>\n",
       "      <td>1164/11/2023</td>\n",
       "      <td>23.7</td>\n",
       "      <td>11/27/2023</td>\n",
       "    </tr>\n",
       "    <tr>\n",
       "      <th>2</th>\n",
       "      <td>Amazon_GaN_Charger_13102022.pdf</td>\n",
       "      <td>Amazon Services Europe S.à r.l.,</td>\n",
       "      <td>DS-ASE-INV-DE-2022-320325323</td>\n",
       "      <td>47.99</td>\n",
       "      <td>10/13/2022</td>\n",
       "    </tr>\n",
       "    <tr>\n",
       "      <th>3</th>\n",
       "      <td>Amazon_USB_Flash_Drive_24102022.pdf</td>\n",
       "      <td>Amazon EU S.à r.l.</td>\n",
       "      <td>DE261LJS0AEUI</td>\n",
       "      <td>20.39</td>\n",
       "      <td>10/24/2022</td>\n",
       "    </tr>\n",
       "    <tr>\n",
       "      <th>4</th>\n",
       "      <td>Aral_Center_Hildesheim_05032020.pdf</td>\n",
       "      <td>Aral- CENTER</td>\n",
       "      <td>nan</td>\n",
       "      <td>68.84</td>\n",
       "      <td>03/05/2020</td>\n",
       "    </tr>\n",
       "  </tbody>\n",
       "</table>\n",
       "</div>"
      ],
      "text/plain": [
       "                                   File                  Extracted Vendor  \\\n",
       "0  AH_Siedle_Reifenwechsel_24042020.pdf     Autohaus Siedle GmbH & Co. KG   \n",
       "1      ALU_RAHMEN_Rechnung_27112023.pdf                               nan   \n",
       "2       Amazon_GaN_Charger_13102022.pdf  Amazon Services Europe S.à r.l.,   \n",
       "3   Amazon_USB_Flash_Drive_24102022.pdf                Amazon EU S.à r.l.   \n",
       "4   Aral_Center_Hildesheim_05032020.pdf                      Aral- CENTER   \n",
       "\n",
       "       Extracted Invoice Number Extracted Amount Extracted Invoice Date  \n",
       "0                     110024940            79.85             04/24/2020  \n",
       "1                  1164/11/2023             23.7             11/27/2023  \n",
       "2  DS-ASE-INV-DE-2022-320325323            47.99             10/13/2022  \n",
       "3                 DE261LJS0AEUI            20.39             10/24/2022  \n",
       "4                           nan            68.84             03/05/2020  "
      ]
     },
     "execution_count": 4,
     "metadata": {},
     "output_type": "execute_result"
    }
   ],
   "source": [
    "data[\"Extracted Invoice Date\"] = data[\"Extracted Invoice Date\"].map(lambda x:x.split(\" \")[0],na_action=\"ignore\")\n",
    "data[\"Extracted Invoice Number\"] = data[\"Extracted Invoice Number\"].map(lambda x: \"nan\" if str(x) == \"\" else str(x).strip()).map(lambda x: \"nan\" if str(x) == \"\" else str(x).strip())\n",
    "data[\"Extracted Amount\"] = data[\"Extracted Amount\"].map(str)\n",
    "data[\"Extracted Vendor\"] = data[\"Extracted Vendor\"].map(str)\n",
    "\n",
    "data.head()\n"
   ]
  },
  {
   "cell_type": "code",
   "execution_count": 5,
   "metadata": {},
   "outputs": [
    {
     "data": {
      "text/html": [
       "<div>\n",
       "<style scoped>\n",
       "    .dataframe tbody tr th:only-of-type {\n",
       "        vertical-align: middle;\n",
       "    }\n",
       "\n",
       "    .dataframe tbody tr th {\n",
       "        vertical-align: top;\n",
       "    }\n",
       "\n",
       "    .dataframe thead th {\n",
       "        text-align: right;\n",
       "    }\n",
       "</style>\n",
       "<table border=\"1\" class=\"dataframe\">\n",
       "  <thead>\n",
       "    <tr style=\"text-align: right;\">\n",
       "      <th></th>\n",
       "      <th>Extracted Vendor</th>\n",
       "      <th>Extracted Invoice Number</th>\n",
       "      <th>Extracted Amount</th>\n",
       "      <th>Extracted Invoice Date</th>\n",
       "      <th>Vendor</th>\n",
       "      <th>Invoice Number</th>\n",
       "      <th>Amount</th>\n",
       "      <th>Invoice Date</th>\n",
       "    </tr>\n",
       "    <tr>\n",
       "      <th>File</th>\n",
       "      <th></th>\n",
       "      <th></th>\n",
       "      <th></th>\n",
       "      <th></th>\n",
       "      <th></th>\n",
       "      <th></th>\n",
       "      <th></th>\n",
       "      <th></th>\n",
       "    </tr>\n",
       "  </thead>\n",
       "  <tbody>\n",
       "    <tr>\n",
       "      <th>AH_Siedle_Reifenwechsel_24042020.pdf</th>\n",
       "      <td>Autohaus Siedle GmbH &amp; Co. KG</td>\n",
       "      <td>110024940</td>\n",
       "      <td>79.85</td>\n",
       "      <td>04/24/2020</td>\n",
       "      <td>Autohaus Siedle GmbH &amp; Co. KG</td>\n",
       "      <td>110024940</td>\n",
       "      <td>79.85</td>\n",
       "      <td>04/24/2020</td>\n",
       "    </tr>\n",
       "    <tr>\n",
       "      <th>ALU_RAHMEN_Rechnung_27112023.pdf</th>\n",
       "      <td>nan</td>\n",
       "      <td>1164/11/2023</td>\n",
       "      <td>23.7</td>\n",
       "      <td>11/27/2023</td>\n",
       "      <td>Alurahmen24</td>\n",
       "      <td>1164/11/2023</td>\n",
       "      <td>23.7</td>\n",
       "      <td>11/27/2023</td>\n",
       "    </tr>\n",
       "    <tr>\n",
       "      <th>Amazon_GaN_Charger_13102022.pdf</th>\n",
       "      <td>Amazon Services Europe S.à r.l.,</td>\n",
       "      <td>DS-ASE-INV-DE-2022-320325323</td>\n",
       "      <td>47.99</td>\n",
       "      <td>10/13/2022</td>\n",
       "      <td>Amazon Services Europe S.à r.l.</td>\n",
       "      <td>DS-ASE-INV-DE-2022-320325323</td>\n",
       "      <td>47.99</td>\n",
       "      <td>10/13/2022</td>\n",
       "    </tr>\n",
       "    <tr>\n",
       "      <th>Amazon_USB_Flash_Drive_24102022.pdf</th>\n",
       "      <td>Amazon EU S.à r.l.</td>\n",
       "      <td>DE261LJS0AEUI</td>\n",
       "      <td>20.39</td>\n",
       "      <td>10/24/2022</td>\n",
       "      <td>Amazon EU S.à r.l.</td>\n",
       "      <td>DE261LJS0AEUI</td>\n",
       "      <td>20.39</td>\n",
       "      <td>10/24/2022</td>\n",
       "    </tr>\n",
       "    <tr>\n",
       "      <th>Aral_Center_Hildesheim_05032020.pdf</th>\n",
       "      <td>Aral- CENTER</td>\n",
       "      <td>nan</td>\n",
       "      <td>68.84</td>\n",
       "      <td>03/05/2020</td>\n",
       "      <td>Aral Center Hildesheim</td>\n",
       "      <td>4605/009/00003</td>\n",
       "      <td>68.84</td>\n",
       "      <td>03/05/2020</td>\n",
       "    </tr>\n",
       "    <tr>\n",
       "      <th>...</th>\n",
       "      <td>...</td>\n",
       "      <td>...</td>\n",
       "      <td>...</td>\n",
       "      <td>...</td>\n",
       "      <td>...</td>\n",
       "      <td>...</td>\n",
       "      <td>...</td>\n",
       "      <td>...</td>\n",
       "    </tr>\n",
       "    <tr>\n",
       "      <th>Zollamt_Schaffhausen_Vignette_20022020.pdf</th>\n",
       "      <td>Scnwerzensche Fidgenossenschett Schweiz Confed...</td>\n",
       "      <td>nan</td>\n",
       "      <td>40.0</td>\n",
       "      <td>02/20/2020</td>\n",
       "      <td>Schweizerische Eidgenossenschaft</td>\n",
       "      <td>07937/80831371</td>\n",
       "      <td>40.0</td>\n",
       "      <td>02/20/2020</td>\n",
       "    </tr>\n",
       "    <tr>\n",
       "      <th>Zollamt_St_Margarethen_Vignette_CH_2023_14072023.pdf</th>\n",
       "      <td>Schweizerische Eidgenossenschaft</td>\n",
       "      <td>nan</td>\n",
       "      <td>40.0</td>\n",
       "      <td>07/14/2023</td>\n",
       "      <td>Schweizerische Eidgenossenschaft</td>\n",
       "      <td>nan</td>\n",
       "      <td>40.0</td>\n",
       "      <td>07/14/2023</td>\n",
       "    </tr>\n",
       "    <tr>\n",
       "      <th>Zoll_Schaffhausen_Vignette_2024.pdf</th>\n",
       "      <td>Schweizerische Eldgenossenschaft Conféderation</td>\n",
       "      <td>nan</td>\n",
       "      <td>nan</td>\n",
       "      <td>03/19/2024</td>\n",
       "      <td>Schweizerische Eidgenossenschaft</td>\n",
       "      <td>nan</td>\n",
       "      <td>40.0</td>\n",
       "      <td>03/19/2024</td>\n",
       "    </tr>\n",
       "    <tr>\n",
       "      <th>Zwierad_Stadler_2534957.PDF</th>\n",
       "      <td>GmbH Stadler Zweirad-Center</td>\n",
       "      <td>2534957</td>\n",
       "      <td>nan</td>\n",
       "      <td>10/06/2021</td>\n",
       "      <td>Stadler</td>\n",
       "      <td>2534957</td>\n",
       "      <td>142.99</td>\n",
       "      <td>10/06/2021</td>\n",
       "    </tr>\n",
       "    <tr>\n",
       "      <th>ÖAMTC_AT_Autobahnmaut_10_Tage_18092024.pdf</th>\n",
       "      <td>UAMTC</td>\n",
       "      <td>nan</td>\n",
       "      <td>11.5</td>\n",
       "      <td>NaN</td>\n",
       "      <td>ÖAMTC</td>\n",
       "      <td>50009</td>\n",
       "      <td>11.5</td>\n",
       "      <td>09/18/2024</td>\n",
       "    </tr>\n",
       "  </tbody>\n",
       "</table>\n",
       "<p>160 rows × 8 columns</p>\n",
       "</div>"
      ],
      "text/plain": [
       "                                                                                     Extracted Vendor  \\\n",
       "File                                                                                                    \n",
       "AH_Siedle_Reifenwechsel_24042020.pdf                                    Autohaus Siedle GmbH & Co. KG   \n",
       "ALU_RAHMEN_Rechnung_27112023.pdf                                                                  nan   \n",
       "Amazon_GaN_Charger_13102022.pdf                                      Amazon Services Europe S.à r.l.,   \n",
       "Amazon_USB_Flash_Drive_24102022.pdf                                                Amazon EU S.à r.l.   \n",
       "Aral_Center_Hildesheim_05032020.pdf                                                      Aral- CENTER   \n",
       "...                                                                                               ...   \n",
       "Zollamt_Schaffhausen_Vignette_20022020.pdf          Scnwerzensche Fidgenossenschett Schweiz Confed...   \n",
       "Zollamt_St_Margarethen_Vignette_CH_2023_1407202...                   Schweizerische Eidgenossenschaft   \n",
       "Zoll_Schaffhausen_Vignette_2024.pdf                    Schweizerische Eldgenossenschaft Conféderation   \n",
       "Zwierad_Stadler_2534957.PDF                                               GmbH Stadler Zweirad-Center   \n",
       "ÖAMTC_AT_Autobahnmaut_10_Tage_18092024.pdf                                                      UAMTC   \n",
       "\n",
       "                                                        Extracted Invoice Number  \\\n",
       "File                                                                               \n",
       "AH_Siedle_Reifenwechsel_24042020.pdf                                   110024940   \n",
       "ALU_RAHMEN_Rechnung_27112023.pdf                                    1164/11/2023   \n",
       "Amazon_GaN_Charger_13102022.pdf                     DS-ASE-INV-DE-2022-320325323   \n",
       "Amazon_USB_Flash_Drive_24102022.pdf                                DE261LJS0AEUI   \n",
       "Aral_Center_Hildesheim_05032020.pdf                                          nan   \n",
       "...                                                                          ...   \n",
       "Zollamt_Schaffhausen_Vignette_20022020.pdf                                   nan   \n",
       "Zollamt_St_Margarethen_Vignette_CH_2023_1407202...                           nan   \n",
       "Zoll_Schaffhausen_Vignette_2024.pdf                                          nan   \n",
       "Zwierad_Stadler_2534957.PDF                                              2534957   \n",
       "ÖAMTC_AT_Autobahnmaut_10_Tage_18092024.pdf                                   nan   \n",
       "\n",
       "                                                   Extracted Amount  \\\n",
       "File                                                                  \n",
       "AH_Siedle_Reifenwechsel_24042020.pdf                          79.85   \n",
       "ALU_RAHMEN_Rechnung_27112023.pdf                               23.7   \n",
       "Amazon_GaN_Charger_13102022.pdf                               47.99   \n",
       "Amazon_USB_Flash_Drive_24102022.pdf                           20.39   \n",
       "Aral_Center_Hildesheim_05032020.pdf                           68.84   \n",
       "...                                                             ...   \n",
       "Zollamt_Schaffhausen_Vignette_20022020.pdf                     40.0   \n",
       "Zollamt_St_Margarethen_Vignette_CH_2023_1407202...             40.0   \n",
       "Zoll_Schaffhausen_Vignette_2024.pdf                             nan   \n",
       "Zwierad_Stadler_2534957.PDF                                     nan   \n",
       "ÖAMTC_AT_Autobahnmaut_10_Tage_18092024.pdf                     11.5   \n",
       "\n",
       "                                                   Extracted Invoice Date  \\\n",
       "File                                                                        \n",
       "AH_Siedle_Reifenwechsel_24042020.pdf                           04/24/2020   \n",
       "ALU_RAHMEN_Rechnung_27112023.pdf                               11/27/2023   \n",
       "Amazon_GaN_Charger_13102022.pdf                                10/13/2022   \n",
       "Amazon_USB_Flash_Drive_24102022.pdf                            10/24/2022   \n",
       "Aral_Center_Hildesheim_05032020.pdf                            03/05/2020   \n",
       "...                                                                   ...   \n",
       "Zollamt_Schaffhausen_Vignette_20022020.pdf                     02/20/2020   \n",
       "Zollamt_St_Margarethen_Vignette_CH_2023_1407202...             07/14/2023   \n",
       "Zoll_Schaffhausen_Vignette_2024.pdf                            03/19/2024   \n",
       "Zwierad_Stadler_2534957.PDF                                    10/06/2021   \n",
       "ÖAMTC_AT_Autobahnmaut_10_Tage_18092024.pdf                            NaN   \n",
       "\n",
       "                                                                              Vendor  \\\n",
       "File                                                                                   \n",
       "AH_Siedle_Reifenwechsel_24042020.pdf                   Autohaus Siedle GmbH & Co. KG   \n",
       "ALU_RAHMEN_Rechnung_27112023.pdf                                         Alurahmen24   \n",
       "Amazon_GaN_Charger_13102022.pdf                      Amazon Services Europe S.à r.l.   \n",
       "Amazon_USB_Flash_Drive_24102022.pdf                               Amazon EU S.à r.l.   \n",
       "Aral_Center_Hildesheim_05032020.pdf                           Aral Center Hildesheim   \n",
       "...                                                                              ...   \n",
       "Zollamt_Schaffhausen_Vignette_20022020.pdf          Schweizerische Eidgenossenschaft   \n",
       "Zollamt_St_Margarethen_Vignette_CH_2023_1407202...  Schweizerische Eidgenossenschaft   \n",
       "Zoll_Schaffhausen_Vignette_2024.pdf                 Schweizerische Eidgenossenschaft   \n",
       "Zwierad_Stadler_2534957.PDF                                                  Stadler   \n",
       "ÖAMTC_AT_Autobahnmaut_10_Tage_18092024.pdf                                     ÖAMTC   \n",
       "\n",
       "                                                                  Invoice Number  \\\n",
       "File                                                                               \n",
       "AH_Siedle_Reifenwechsel_24042020.pdf                                   110024940   \n",
       "ALU_RAHMEN_Rechnung_27112023.pdf                                    1164/11/2023   \n",
       "Amazon_GaN_Charger_13102022.pdf                     DS-ASE-INV-DE-2022-320325323   \n",
       "Amazon_USB_Flash_Drive_24102022.pdf                                DE261LJS0AEUI   \n",
       "Aral_Center_Hildesheim_05032020.pdf                               4605/009/00003   \n",
       "...                                                                          ...   \n",
       "Zollamt_Schaffhausen_Vignette_20022020.pdf                        07937/80831371   \n",
       "Zollamt_St_Margarethen_Vignette_CH_2023_1407202...                           nan   \n",
       "Zoll_Schaffhausen_Vignette_2024.pdf                                          nan   \n",
       "Zwierad_Stadler_2534957.PDF                                              2534957   \n",
       "ÖAMTC_AT_Autobahnmaut_10_Tage_18092024.pdf                                 50009   \n",
       "\n",
       "                                                    Amount Invoice Date  \n",
       "File                                                                     \n",
       "AH_Siedle_Reifenwechsel_24042020.pdf                 79.85   04/24/2020  \n",
       "ALU_RAHMEN_Rechnung_27112023.pdf                      23.7   11/27/2023  \n",
       "Amazon_GaN_Charger_13102022.pdf                      47.99   10/13/2022  \n",
       "Amazon_USB_Flash_Drive_24102022.pdf                  20.39   10/24/2022  \n",
       "Aral_Center_Hildesheim_05032020.pdf                  68.84   03/05/2020  \n",
       "...                                                    ...          ...  \n",
       "Zollamt_Schaffhausen_Vignette_20022020.pdf            40.0   02/20/2020  \n",
       "Zollamt_St_Margarethen_Vignette_CH_2023_1407202...    40.0   07/14/2023  \n",
       "Zoll_Schaffhausen_Vignette_2024.pdf                   40.0   03/19/2024  \n",
       "Zwierad_Stadler_2534957.PDF                         142.99   10/06/2021  \n",
       "ÖAMTC_AT_Autobahnmaut_10_Tage_18092024.pdf            11.5   09/18/2024  \n",
       "\n",
       "[160 rows x 8 columns]"
      ]
     },
     "execution_count": 5,
     "metadata": {},
     "output_type": "execute_result"
    }
   ],
   "source": [
    "results = data.set_index(\"File\").join(db.set_index(\"File\"),how=\"inner\")\n",
    "results"
   ]
  },
  {
   "cell_type": "code",
   "execution_count": 6,
   "metadata": {},
   "outputs": [],
   "source": [
    "results[\"Correct Vendor\"] = results[\"Extracted Vendor\"] == results[\"Vendor\"] \n",
    "for file,ext_ven,ven in zip(results.index, results[\"Extracted Vendor\"], results[\"Vendor\"]):\n",
    "    results.loc[file,\"Correct Vendor\"] = ext_ven in ven or ven in ext_ven\n",
    "results[\"Correct Invoice Number\"] = results[\"Extracted Invoice Number\"] == results[\"Invoice Number\"]\n",
    "results[\"Correct Amount\"] = results[\"Extracted Amount\"] == results[\"Amount\"]\n",
    "results[\"Correct Invoice Date\"] = results[\"Extracted Invoice Date\"] == results[\"Invoice Date\"]\n",
    "results[\"Quota\"] = results[\"Correct Vendor\"].map(int) + results[\"Correct Invoice Number\"].map(int) + results[\"Correct Amount\"].map(int) + results[\"Correct Invoice Date\"].map(int)\n"
   ]
  },
  {
   "cell_type": "code",
   "execution_count": 17,
   "metadata": {},
   "outputs": [
    {
     "data": {
      "text/plain": [
       "count    160.000000\n",
       "mean       3.256250\n",
       "std        0.818396\n",
       "min        1.000000\n",
       "25%        3.000000\n",
       "50%        3.000000\n",
       "75%        4.000000\n",
       "max        4.000000\n",
       "Name: Quota, dtype: float64"
      ]
     },
     "execution_count": 17,
     "metadata": {},
     "output_type": "execute_result"
    }
   ],
   "source": [
    "results.Quota.describe()"
   ]
  },
  {
   "cell_type": "code",
   "execution_count": 7,
   "metadata": {},
   "outputs": [
    {
     "data": {
      "text/plain": [
       "(array([ 5., 23., 58., 74.]),\n",
       " array([1., 2., 3., 4., 5.]),\n",
       " <BarContainer object of 4 artists>)"
      ]
     },
     "execution_count": 7,
     "metadata": {},
     "output_type": "execute_result"
    },
    {
     "data": {
      "image/png": "[encoded data removed]",
      "text/plain": [
       "<Figure size 640x480 with 1 Axes>"
      ]
     },
     "metadata": {},
     "output_type": "display_data"
    }
   ],
   "source": [
    "plt.xticks(range(1,5))\n",
    "plt.hist(results.Quota,bins=[1,2,3,4,5],align=\"left\",rwidth=0.5)"
   ]
  },
  {
   "cell_type": "code",
   "execution_count": 8,
   "metadata": {},
   "outputs": [
    {
     "data": {
      "text/plain": [
       "(array([160., 155., 132.,  74.]),\n",
       " array([1., 2., 3., 4., 5.]),\n",
       " <BarContainer object of 4 artists>)"
      ]
     },
     "execution_count": 8,
     "metadata": {},
     "output_type": "execute_result"
    },
    {
     "data": {
      "image/png": "[encoded data removed]",
      "text/plain": [
       "<Figure size 640x480 with 1 Axes>"
      ]
     },
     "metadata": {},
     "output_type": "display_data"
    }
   ],
   "source": [
    "plt.xticks(range(1,5))\n",
    "plt.hist(results.Quota,bins=[1,2,3,4,5],cumulative=-1,align=\"left\",rwidth=0.5)\n",
    "#plt.hist([1,2,3,4,1,3,1,1,2,4,3,4,2,4,2,1,4],bins=[0.75+0.5*i for i in range(8)])"
   ]
  },
  {
   "cell_type": "code",
   "execution_count": 52,
   "metadata": {},
   "outputs": [
    {
     "name": "stdout",
     "output_type": "stream",
     "text": [
      "Vendor Accuracy: 81.875 %\n",
      "Invoice Number Accuracy: 70.625 %\n",
      "Amount Accuracy: 86.25 %\n",
      "Invoice Date Accuracy: 86.875 %\n"
     ]
    }
   ],
   "source": [
    "n = len(results.index)\n",
    "vendor_acc = (results[\"Correct Vendor\"].sum() / n) * 100\n",
    "number_acc = (results[\"Correct Invoice Number\"].sum() / n) * 100\n",
    "amount_acc = (results[\"Correct Amount\"].sum() / n) * 100\n",
    "date_acc = (results[\"Correct Invoice Date\"].sum() / n) * 100\n",
    "print(f\"Vendor Accuracy: {vendor_acc} %\")\n",
    "print(f\"Invoice Number Accuracy: {number_acc} %\")\n",
    "print(f\"Amount Accuracy: {amount_acc} %\")\n",
    "print(f\"Invoice Date Accuracy: {date_acc} %\")"
   ]
  },
  {
   "cell_type": "code",
   "execution_count": 53,
   "metadata": {},
   "outputs": [
    {
     "name": "stdout",
     "output_type": "stream",
     "text": [
      "Vendor Null: 6.25 %\n",
      "Invoice Number Null: 26.25 %\n",
      "Amount Null: 11.25 %\n",
      "Invoice Date Null: 10.62 %\n",
      "Vendor Accuracy (excluding Null): 87.33 %\n",
      "Invoice Number Accuracy (excluding Null): 95.76 %\n",
      "Amount Accuracy (excluding Null): 97.18 %\n",
      "Invoice Date Accuracy (excluding Null): 97.20 %\n"
     ]
    }
   ],
   "source": [
    "n = len(results.index)\n",
    "vendor_nan = results.loc[results[\"Correct Vendor\"]==False,\"Extracted Vendor\"].value_counts().get(\"nan\",0)\n",
    "number_nan = results.loc[results[\"Correct Invoice Number\"]==False,\"Extracted Invoice Number\"].value_counts().get(\"nan\",0)\n",
    "amount_nan = results.loc[results[\"Correct Amount\"]==False,\"Extracted Amount\"].value_counts().get(\"nan\",0)\n",
    "date_nan = results[\"Extracted Invoice Date\"].isna().sum()\n",
    "vendor_acc = (results[\"Correct Vendor\"].sum() / (n-vendor_nan)) * 100\n",
    "number_acc = (results[\"Correct Invoice Number\"].sum() / (n-number_nan)) * 100\n",
    "amount_acc = (results[\"Correct Amount\"].sum() / (n-amount_nan)) * 100\n",
    "date_acc = (results[\"Correct Invoice Date\"].sum() / (n-date_nan)) * 100\n",
    "print(f\"Vendor Null: {(vendor_nan/n)*100:.2f} %\")\n",
    "print(f\"Invoice Number Null: {(number_nan/n)*100:.2f} %\")\n",
    "print(f\"Amount Null: {(amount_nan/n)*100:.2f} %\")\n",
    "print(f\"Invoice Date Null: {(date_nan/n)*100:.2f} %\")\n",
    "print(f\"Vendor Accuracy (excluding Null): {vendor_acc:.2f} %\")\n",
    "print(f\"Invoice Number Accuracy (excluding Null): {number_acc:.2f} %\")\n",
    "print(f\"Amount Accuracy (excluding Null): {amount_acc:.2f} %\")\n",
    "print(f\"Invoice Date Accuracy (excluding Null): {date_acc:.2f} %\")"
   ]
  },
  {
   "cell_type": "code",
   "execution_count": 54,
   "metadata": {},
   "outputs": [
    {
     "data": {
      "text/html": [
       "<div>\n",
       "<style scoped>\n",
       "    .dataframe tbody tr th:only-of-type {\n",
       "        vertical-align: middle;\n",
       "    }\n",
       "\n",
       "    .dataframe tbody tr th {\n",
       "        vertical-align: top;\n",
       "    }\n",
       "\n",
       "    .dataframe thead th {\n",
       "        text-align: right;\n",
       "    }\n",
       "</style>\n",
       "<table border=\"1\" class=\"dataframe\">\n",
       "  <thead>\n",
       "    <tr style=\"text-align: right;\">\n",
       "      <th></th>\n",
       "      <th>Extracted Vendor</th>\n",
       "      <th>Vendor</th>\n",
       "    </tr>\n",
       "    <tr>\n",
       "      <th>File</th>\n",
       "      <th></th>\n",
       "      <th></th>\n",
       "    </tr>\n",
       "  </thead>\n",
       "  <tbody>\n",
       "    <tr>\n",
       "      <th>ALU_RAHMEN_Rechnung_27112023.pdf</th>\n",
       "      <td>nan</td>\n",
       "      <td>Alurahmen24</td>\n",
       "    </tr>\n",
       "    <tr>\n",
       "      <th>Aral_Center_Hildesheim_05032020.pdf</th>\n",
       "      <td>Aral- CENTER</td>\n",
       "      <td>Aral Center Hildesheim</td>\n",
       "    </tr>\n",
       "    <tr>\n",
       "      <th>ASFiNAG_Maut_Bosruck_24092024.pdf</th>\n",
       "      <td>AISIFIiINIAIG</td>\n",
       "      <td>ASFiNAG</td>\n",
       "    </tr>\n",
       "    <tr>\n",
       "      <th>BFT_Tanken_05072024.pdf</th>\n",
       "      <td>nan</td>\n",
       "      <td>Autohaus Kienzler GmbH BFT Tankstelle</td>\n",
       "    </tr>\n",
       "    <tr>\n",
       "      <th>ENI_Tankstelle_Vomp_18092024.pdf</th>\n",
       "      <td>nan</td>\n",
       "      <td>GUTMANN Gmbh ENI Tankstelle</td>\n",
       "    </tr>\n",
       "    <tr>\n",
       "      <th>ESSO_Tankstelle_Markdorf_27092024.pdf</th>\n",
       "      <td>ESSO STATTON</td>\n",
       "      <td>ESSO STATION Markdorf</td>\n",
       "    </tr>\n",
       "    <tr>\n",
       "      <th>Gasthaus_Zum_Brend_11042024.pdf</th>\n",
       "      <td>Berggasthof B r e n ☐ d</td>\n",
       "      <td>Berggasthof Brend</td>\n",
       "    </tr>\n",
       "    <tr>\n",
       "      <th>Hotel_Christl_Rohrdorf_A8_11092020.pdf</th>\n",
       "      <td>Hotel Christe</td>\n",
       "      <td>Hotel Christl</td>\n",
       "    </tr>\n",
       "    <tr>\n",
       "      <th>Hotel_Kreuz_Stempfle_Zipplingen_21082021.pdf</th>\n",
       "      <td>Stemplle's ,,Stempfle's\" Landgasthof zum</td>\n",
       "      <td>Hotel Kreuz Stempfle Zipplingen</td>\n",
       "    </tr>\n",
       "    <tr>\n",
       "      <th>Hotel_Schwarzbrunn_15062021.pdf</th>\n",
       "      <td>SCHWARZBRUNN</td>\n",
       "      <td>Hotel Schwarzbrunn</td>\n",
       "    </tr>\n",
       "    <tr>\n",
       "      <th>Hotel_Turnerwirt_08092020.pdf</th>\n",
       "      <td>HOTEL</td>\n",
       "      <td>Hotel Turnerwirt, AT</td>\n",
       "    </tr>\n",
       "    <tr>\n",
       "      <th>Jet_Tankstelle_Nagold_03112023.pdf</th>\n",
       "      <td>nan</td>\n",
       "      <td>Jet TankstelleNagold</td>\n",
       "    </tr>\n",
       "    <tr>\n",
       "      <th>Maut_Karawankentunnel_09092020.pdf</th>\n",
       "      <td>AISIFIiNIAIG</td>\n",
       "      <td>ASFINAG</td>\n",
       "    </tr>\n",
       "    <tr>\n",
       "      <th>Maut_Karawankentunnel_10092020.pdf</th>\n",
       "      <td>Mont Karawarben tunnel</td>\n",
       "      <td>DARS</td>\n",
       "    </tr>\n",
       "    <tr>\n",
       "      <th>Norton_Receipt_AP1466467686_26052023.pdf</th>\n",
       "      <td>norton</td>\n",
       "      <td>NortonLifeLock Ireland Limited</td>\n",
       "    </tr>\n",
       "    <tr>\n",
       "      <th>Norton_Receipt_AP1530580409_25052024.pdf</th>\n",
       "      <td>nan</td>\n",
       "      <td>NortonLifeLock Ireland Limited</td>\n",
       "    </tr>\n",
       "    <tr>\n",
       "      <th>NORVECO_Infrarot_Hybridheizung_06042022.pdf</th>\n",
       "      <td>nan</td>\n",
       "      <td>NORVECO AB</td>\n",
       "    </tr>\n",
       "    <tr>\n",
       "      <th>SB_Markttanktstelle_BD_19082021.pdf</th>\n",
       "      <td>HPV GmbH, Berlin</td>\n",
       "      <td>SB Markttankstelle</td>\n",
       "    </tr>\n",
       "    <tr>\n",
       "      <th>Shell_Furtwangen_02062024.pdf</th>\n",
       "      <td>nan</td>\n",
       "      <td>SHELL STATION Ketterer GmbH</td>\n",
       "    </tr>\n",
       "    <tr>\n",
       "      <th>TG_Schildergasse_Parken_04032020.pdf</th>\n",
       "      <td>Contipark International Parking GnbH</td>\n",
       "      <td>TG Schildergasse</td>\n",
       "    </tr>\n",
       "    <tr>\n",
       "      <th>TonerFrosch_VRE515956_07102020.pdf</th>\n",
       "      <td>Supplies Number1</td>\n",
       "      <td>TonerFrosch</td>\n",
       "    </tr>\n",
       "    <tr>\n",
       "      <th>Total_Station_ARTERN_Tankbeleg_28042020.pdf</th>\n",
       "      <td>nan</td>\n",
       "      <td>Total Station Artern</td>\n",
       "    </tr>\n",
       "    <tr>\n",
       "      <th>Vicloon_Halogen_Lampen_161019.pdf</th>\n",
       "      <td>nan</td>\n",
       "      <td>Amazon</td>\n",
       "    </tr>\n",
       "    <tr>\n",
       "      <th>Vodafone_Office_LP_light_07042021.pdf</th>\n",
       "      <td>nan</td>\n",
       "      <td>Vodafone</td>\n",
       "    </tr>\n",
       "    <tr>\n",
       "      <th>Vodafone_Red_I_P_Cable_04022022.pdf</th>\n",
       "      <td>Business-Service</td>\n",
       "      <td>Vodafone</td>\n",
       "    </tr>\n",
       "    <tr>\n",
       "      <th>Zollamt_Schaffhausen_Bargen_Vignette_Schweiz_2021_02062021.pdf</th>\n",
       "      <td>Eidgenössische Zollverwaltung EZV</td>\n",
       "      <td>Schweizerische Eidgenossenschaft</td>\n",
       "    </tr>\n",
       "    <tr>\n",
       "      <th>Zollamt_Schaffhausen_Vignette_20022020.pdf</th>\n",
       "      <td>Scnwerzensche Fidgenossenschett Schweiz Confed...</td>\n",
       "      <td>Schweizerische Eidgenossenschaft</td>\n",
       "    </tr>\n",
       "    <tr>\n",
       "      <th>Zoll_Schaffhausen_Vignette_2024.pdf</th>\n",
       "      <td>Schweizerische Eldgenossenschaft Conféderation</td>\n",
       "      <td>Schweizerische Eidgenossenschaft</td>\n",
       "    </tr>\n",
       "    <tr>\n",
       "      <th>ÖAMTC_AT_Autobahnmaut_10_Tage_18092024.pdf</th>\n",
       "      <td>UAMTC</td>\n",
       "      <td>ÖAMTC</td>\n",
       "    </tr>\n",
       "  </tbody>\n",
       "</table>\n",
       "</div>"
      ],
      "text/plain": [
       "                                                                                     Extracted Vendor  \\\n",
       "File                                                                                                    \n",
       "ALU_RAHMEN_Rechnung_27112023.pdf                                                                  nan   \n",
       "Aral_Center_Hildesheim_05032020.pdf                                                      Aral- CENTER   \n",
       "ASFiNAG_Maut_Bosruck_24092024.pdf                                                       AISIFIiINIAIG   \n",
       "BFT_Tanken_05072024.pdf                                                                           nan   \n",
       "ENI_Tankstelle_Vomp_18092024.pdf                                                                  nan   \n",
       "ESSO_Tankstelle_Markdorf_27092024.pdf                                                    ESSO STATTON   \n",
       "Gasthaus_Zum_Brend_11042024.pdf                                               Berggasthof B r e n ☐ d   \n",
       "Hotel_Christl_Rohrdorf_A8_11092020.pdf                                                  Hotel Christe   \n",
       "Hotel_Kreuz_Stempfle_Zipplingen_21082021.pdf                 Stemplle's ,,Stempfle's\" Landgasthof zum   \n",
       "Hotel_Schwarzbrunn_15062021.pdf                                                          SCHWARZBRUNN   \n",
       "Hotel_Turnerwirt_08092020.pdf                                                                   HOTEL   \n",
       "Jet_Tankstelle_Nagold_03112023.pdf                                                                nan   \n",
       "Maut_Karawankentunnel_09092020.pdf                                                       AISIFIiNIAIG   \n",
       "Maut_Karawankentunnel_10092020.pdf                                             Mont Karawarben tunnel   \n",
       "Norton_Receipt_AP1466467686_26052023.pdf                                                       norton   \n",
       "Norton_Receipt_AP1530580409_25052024.pdf                                                          nan   \n",
       "NORVECO_Infrarot_Hybridheizung_06042022.pdf                                                       nan   \n",
       "SB_Markttanktstelle_BD_19082021.pdf                                                  HPV GmbH, Berlin   \n",
       "Shell_Furtwangen_02062024.pdf                                                                     nan   \n",
       "TG_Schildergasse_Parken_04032020.pdf                             Contipark International Parking GnbH   \n",
       "TonerFrosch_VRE515956_07102020.pdf                                                   Supplies Number1   \n",
       "Total_Station_ARTERN_Tankbeleg_28042020.pdf                                                       nan   \n",
       "Vicloon_Halogen_Lampen_161019.pdf                                                                 nan   \n",
       "Vodafone_Office_LP_light_07042021.pdf                                                             nan   \n",
       "Vodafone_Red_I_P_Cable_04022022.pdf                                                  Business-Service   \n",
       "Zollamt_Schaffhausen_Bargen_Vignette_Schweiz_20...                  Eidgenössische Zollverwaltung EZV   \n",
       "Zollamt_Schaffhausen_Vignette_20022020.pdf          Scnwerzensche Fidgenossenschett Schweiz Confed...   \n",
       "Zoll_Schaffhausen_Vignette_2024.pdf                    Schweizerische Eldgenossenschaft Conféderation   \n",
       "ÖAMTC_AT_Autobahnmaut_10_Tage_18092024.pdf                                                      UAMTC   \n",
       "\n",
       "                                                                                   Vendor  \n",
       "File                                                                                       \n",
       "ALU_RAHMEN_Rechnung_27112023.pdf                                              Alurahmen24  \n",
       "Aral_Center_Hildesheim_05032020.pdf                                Aral Center Hildesheim  \n",
       "ASFiNAG_Maut_Bosruck_24092024.pdf                                                 ASFiNAG  \n",
       "BFT_Tanken_05072024.pdf                             Autohaus Kienzler GmbH BFT Tankstelle  \n",
       "ENI_Tankstelle_Vomp_18092024.pdf                             GUTMANN Gmbh ENI Tankstelle   \n",
       "ESSO_Tankstelle_Markdorf_27092024.pdf                               ESSO STATION Markdorf  \n",
       "Gasthaus_Zum_Brend_11042024.pdf                                         Berggasthof Brend  \n",
       "Hotel_Christl_Rohrdorf_A8_11092020.pdf                                      Hotel Christl  \n",
       "Hotel_Kreuz_Stempfle_Zipplingen_21082021.pdf              Hotel Kreuz Stempfle Zipplingen  \n",
       "Hotel_Schwarzbrunn_15062021.pdf                                        Hotel Schwarzbrunn  \n",
       "Hotel_Turnerwirt_08092020.pdf                                        Hotel Turnerwirt, AT  \n",
       "Jet_Tankstelle_Nagold_03112023.pdf                                   Jet TankstelleNagold  \n",
       "Maut_Karawankentunnel_09092020.pdf                                                ASFINAG  \n",
       "Maut_Karawankentunnel_10092020.pdf                                                   DARS  \n",
       "Norton_Receipt_AP1466467686_26052023.pdf                   NortonLifeLock Ireland Limited  \n",
       "Norton_Receipt_AP1530580409_25052024.pdf                   NortonLifeLock Ireland Limited  \n",
       "NORVECO_Infrarot_Hybridheizung_06042022.pdf                                    NORVECO AB  \n",
       "SB_Markttanktstelle_BD_19082021.pdf                                    SB Markttankstelle  \n",
       "Shell_Furtwangen_02062024.pdf                                 SHELL STATION Ketterer GmbH  \n",
       "TG_Schildergasse_Parken_04032020.pdf                                     TG Schildergasse  \n",
       "TonerFrosch_VRE515956_07102020.pdf                                            TonerFrosch  \n",
       "Total_Station_ARTERN_Tankbeleg_28042020.pdf                          Total Station Artern  \n",
       "Vicloon_Halogen_Lampen_161019.pdf                                                  Amazon  \n",
       "Vodafone_Office_LP_light_07042021.pdf                                            Vodafone  \n",
       "Vodafone_Red_I_P_Cable_04022022.pdf                                              Vodafone  \n",
       "Zollamt_Schaffhausen_Bargen_Vignette_Schweiz_20...       Schweizerische Eidgenossenschaft  \n",
       "Zollamt_Schaffhausen_Vignette_20022020.pdf               Schweizerische Eidgenossenschaft  \n",
       "Zoll_Schaffhausen_Vignette_2024.pdf                      Schweizerische Eidgenossenschaft  \n",
       "ÖAMTC_AT_Autobahnmaut_10_Tage_18092024.pdf                                          ÖAMTC  "
      ]
     },
     "execution_count": 54,
     "metadata": {},
     "output_type": "execute_result"
    }
   ],
   "source": [
    "inv = results.loc[results[\"Correct Amount\"] == False,[\"Extracted Amount\",\"Amount\"]]\n",
    "inv = results.loc[results[\"Correct Invoice Number\"] == False,[\"Extracted Invoice Number\",\"Invoice Number\"]]\n",
    "inv = results.loc[results[\"Correct Vendor\"] == False,[\"Extracted Vendor\",\"Vendor\"]]\n",
    "#inv = results.loc[results[\"Correct Invoice Date\"] == False,[\"Extracted Invoice Date\",\"Invoice Date\"]]\n",
    "\n",
    "inv"
   ]
  },
  {
   "cell_type": "code",
   "execution_count": 8,
   "metadata": {},
   "outputs": [],
   "source": [
    "scan = pd.read_csv(\"C:/Users/paul8/Downloads/DB_scan.csv\",sep=';').set_index(\"File\")\n",
    "\n",
    "res_pdf = results.loc[scan[\"Scan\"] == False,:]\n",
    "res_scan = results.loc[scan[\"Scan\"] == True,:]"
   ]
  },
  {
   "cell_type": "code",
   "execution_count": 11,
   "metadata": {},
   "outputs": [
    {
     "data": {
      "text/plain": [
       "(array([[ 5., 15., 32., 28.],\n",
       "        [ 0.,  8., 26., 46.]]),\n",
       " array([1., 2., 3., 4., 5.]),\n",
       " <a list of 2 BarContainer objects>)"
      ]
     },
     "execution_count": 11,
     "metadata": {},
     "output_type": "execute_result"
    },
    {
     "data": {
      "image/png": "[encoded data removed]",
      "text/plain": [
       "<Figure size 640x480 with 1 Axes>"
      ]
     },
     "metadata": {},
     "output_type": "display_data"
    }
   ],
   "source": [
    "plt.title(\"Scan vs. PDF\")\n",
    "plt.xticks(range(1,5))\n",
    "plt.legend([\"Scan\",\"PDF\"])\n",
    "plt.hist([res_scan.Quota,res_pdf.Quota],bins=[1,2,3,4,5],align=\"left\",rwidth=0.5)\n",
    "#plt.show()"
   ]
  },
  {
   "cell_type": "code",
   "execution_count": 19,
   "metadata": {},
   "outputs": [
    {
     "data": {
      "image/png": "[encoded data removed]",
      "text/plain": [
       "<Figure size 640x480 with 1 Axes>"
      ]
     },
     "metadata": {},
     "output_type": "display_data"
    }
   ],
   "source": [
    "plt.title(\"Scan vs. PDF\")\n",
    "plt.xticks(range(1,5))\n",
    "plt.hist([res_scan.Quota,res_pdf.Quota],bins=[1,2,3,4,5],align=\"left\",rwidth=0.5,cumulative=-1)\n",
    "plt.legend([\"Scan\",\"PDF\"])\n",
    "plt.show()"
   ]
  },
  {
   "cell_type": "code",
   "execution_count": 82,
   "metadata": {},
   "outputs": [
    {
     "name": "stdout",
     "output_type": "stream",
     "text": [
      "PDF Accuracy:\n",
      "Vendor Accuracy: 92.5 %\n",
      "Invoice Number Accuracy: 86.25 %\n",
      "Amount Accuracy: 83.75 %\n",
      "Invoice Date Accuracy: 85.0 %\n",
      "Scan Accuracy:\n",
      "Vendor Accuracy: 71.25 %\n",
      "Invoice Number Accuracy: 55.00 %\n",
      "Amount Accuracy: 88.75 %\n",
      "Invoice Date Accuracy: 88.75 %\n"
     ]
    }
   ],
   "source": [
    "n = res_pdf.shape[0]\n",
    "vendor_acc = (res_pdf[\"Correct Vendor\"].sum() / n) * 100\n",
    "number_acc = (res_pdf[\"Correct Invoice Number\"].sum() / n) * 100\n",
    "amount_acc = (res_pdf[\"Correct Amount\"].sum() / n) * 100\n",
    "date_acc = (res_pdf[\"Correct Invoice Date\"].sum() / n) * 100\n",
    "print(\"PDF Accuracy:\")\n",
    "print(f\"Vendor Accuracy: {vendor_acc} %\")\n",
    "print(f\"Invoice Number Accuracy: {number_acc} %\")\n",
    "print(f\"Amount Accuracy: {amount_acc} %\")\n",
    "print(f\"Invoice Date Accuracy: {date_acc} %\")\n",
    "n = res_scan.shape[0]\n",
    "vendor_acc = (res_scan[\"Correct Vendor\"].sum() / n) * 100\n",
    "number_acc = (res_scan[\"Correct Invoice Number\"].sum() / n) * 100\n",
    "amount_acc = (res_scan[\"Correct Amount\"].sum() / n) * 100\n",
    "date_acc = (res_scan[\"Correct Invoice Date\"].sum() / n) * 100\n",
    "print(\"Scan Accuracy:\")\n",
    "print(f\"Vendor Accuracy: {vendor_acc} %\")\n",
    "print(f\"Invoice Number Accuracy: {number_acc:.2f} %\")\n",
    "print(f\"Amount Accuracy: {amount_acc} %\")\n",
    "print(f\"Invoice Date Accuracy: {date_acc} %\")"
   ]
  },
  {
   "cell_type": "code",
   "execution_count": 83,
   "metadata": {},
   "outputs": [
    {
     "name": "stdout",
     "output_type": "stream",
     "text": [
      "On PDF\n",
      "Vendor Null: 5.00 %\n",
      "Invoice Number Null: 10.00 %\n",
      "Amount Null: 13.75 %\n",
      "Invoice Date Null: 11.25 %\n",
      "Vendor Accuracy (excluding Null): 97.37 %\n",
      "Invoice Number Accuracy (excluding Null): 95.83 %\n",
      "Amount Accuracy (excluding Null): 97.10 %\n",
      "Invoice Date Accuracy (excluding Null): 95.77 %\n"
     ]
    }
   ],
   "source": [
    "n = res_pdf.shape[0]\n",
    "vendor_nan = res_pdf.loc[res_pdf[\"Correct Vendor\"]==False,\"Extracted Vendor\"].value_counts().get(\"nan\",0)\n",
    "number_nan = res_pdf.loc[res_pdf[\"Correct Invoice Number\"]==False,\"Extracted Invoice Number\"].value_counts().get(\"nan\",0)\n",
    "amount_nan = res_pdf.loc[res_pdf[\"Correct Amount\"]==False,\"Extracted Amount\"].value_counts().get(\"nan\",0)\n",
    "date_nan = res_pdf[\"Extracted Invoice Date\"].isna().sum() \n",
    "vendor_acc = (res_pdf[\"Correct Vendor\"].sum() / (n-vendor_nan)) * 100\n",
    "number_acc = (res_pdf[\"Correct Invoice Number\"].sum() / (n-number_nan)) * 100\n",
    "amount_acc = (res_pdf[\"Correct Amount\"].sum() / (n-amount_nan)) * 100\n",
    "date_acc = (res_pdf[\"Correct Invoice Date\"].sum() / (n-date_nan)) * 100\n",
    "print(\"On PDF\")\n",
    "print(f\"Vendor Null: {(vendor_nan/n)*100:.2f} %\")\n",
    "print(f\"Invoice Number Null: {(number_nan/n)*100:.2f} %\")\n",
    "print(f\"Amount Null: {(amount_nan/n)*100:.2f} %\")\n",
    "print(f\"Invoice Date Null: {(date_nan/n)*100:.2f} %\")\n",
    "print(f\"Vendor Accuracy (excluding Null): {vendor_acc:.2f} %\")\n",
    "print(f\"Invoice Number Accuracy (excluding Null): {number_acc:.2f} %\")\n",
    "print(f\"Amount Accuracy (excluding Null): {amount_acc:.2f} %\")\n",
    "print(f\"Invoice Date Accuracy (excluding Null): {date_acc:.2f} %\")"
   ]
  },
  {
   "cell_type": "code",
   "execution_count": 84,
   "metadata": {},
   "outputs": [
    {
     "name": "stdout",
     "output_type": "stream",
     "text": [
      "On Scan\n",
      "Vendor Null: 7.50 %\n",
      "Invoice Number Null: 42.50 %\n",
      "Amount Null: 8.75 %\n",
      "Invoice Date Null: 10.00 %\n",
      "Vendor Accuracy (excluding Null): 77.03 %\n",
      "Invoice Number Accuracy (excluding Null): 95.65 %\n",
      "Amount Accuracy (excluding Null): 97.26 %\n",
      "Invoice Date Accuracy (excluding Null): 98.61 %\n"
     ]
    }
   ],
   "source": [
    "n = res_scan.shape[0]\n",
    "vendor_nan = res_scan.loc[res_scan[\"Correct Vendor\"]==False,\"Extracted Vendor\"].value_counts().get(\"nan\",0)\n",
    "number_nan = res_scan.loc[res_scan[\"Correct Invoice Number\"]==False,\"Extracted Invoice Number\"].value_counts().get(\"nan\",0)\n",
    "amount_nan = res_scan.loc[res_scan[\"Correct Amount\"]==False,\"Extracted Amount\"].value_counts().get(\"nan\",0)\n",
    "date_nan = res_scan[\"Extracted Invoice Date\"].isna().sum() \n",
    "vendor_acc = (res_scan[\"Correct Vendor\"].sum() / (n-vendor_nan)) * 100\n",
    "number_acc = (res_scan[\"Correct Invoice Number\"].sum() / (n-number_nan)) * 100\n",
    "amount_acc = (res_scan[\"Correct Amount\"].sum() / (n-amount_nan)) * 100\n",
    "date_acc = (res_scan[\"Correct Invoice Date\"].sum() / (n-date_nan)) * 100\n",
    "print(\"On Scan\")\n",
    "print(f\"Vendor Null: {(vendor_nan/n)*100:.2f} %\")\n",
    "print(f\"Invoice Number Null: {(number_nan/n)*100:.2f} %\")\n",
    "print(f\"Amount Null: {(amount_nan/n)*100:.2f} %\")\n",
    "print(f\"Invoice Date Null: {(date_nan/n)*100:.2f} %\")\n",
    "print(f\"Vendor Accuracy (excluding Null): {vendor_acc:.2f} %\")\n",
    "print(f\"Invoice Number Accuracy (excluding Null): {number_acc:.2f} %\")\n",
    "print(f\"Amount Accuracy (excluding Null): {amount_acc:.2f} %\")\n",
    "print(f\"Invoice Date Accuracy (excluding Null): {date_acc:.2f} %\")"
   ]
  },
  {
   "cell_type": "code",
   "execution_count": 85,
   "metadata": {},
   "outputs": [],
   "source": [
    "pdf_train, pdf_test = train_test_split(scan.loc[scan[\"Scan\"] == False,:],test_size=5/16,random_state=42)\n",
    "scan_train, scan_test = train_test_split(scan.loc[scan[\"Scan\"] == True,:],test_size=5/16,random_state=42)\n",
    "\n",
    "train_set = pdf_train._append(scan_train)\n",
    "test_set = pdf_test._append(scan_test)"
   ]
  },
  {
   "cell_type": "code",
   "execution_count": 7,
   "metadata": {},
   "outputs": [
    {
     "data": {
      "text/plain": [
       "(50, 13)"
      ]
     },
     "execution_count": 7,
     "metadata": {},
     "output_type": "execute_result"
    }
   ],
   "source": [
    "test_set = np.array(listdir(\"C:/Users/paul8/Documents/Uni/7. Thesis/Thesis/paul/\"))\n",
    "benchmark = results.loc[test_set,:]\n",
    "benchmark.shape"
   ]
  },
  {
   "cell_type": "code",
   "execution_count": 87,
   "metadata": {},
   "outputs": [
    {
     "data": {
      "text/plain": [
       "(array([ 3.,  0.,  4.,  0., 19.,  0., 24.]),\n",
       " array([0.75, 1.25, 1.75, 2.25, 2.75, 3.25, 3.75, 4.25]),\n",
       " <BarContainer object of 7 artists>)"
      ]
     },
     "execution_count": 87,
     "metadata": {},
     "output_type": "execute_result"
    },
    {
     "data": {
      "image/png": "[encoded data removed]",
      "text/plain": [
       "<Figure size 640x480 with 1 Axes>"
      ]
     },
     "metadata": {},
     "output_type": "display_data"
    }
   ],
   "source": [
    "plt.xticks(range(1,5))\n",
    "plt.title(\"Benchmark\")\n",
    "plt.hist(benchmark.Quota,bins=[0.75+0.5*i for i in range(8)])"
   ]
  },
  {
   "cell_type": "code",
   "execution_count": 88,
   "metadata": {},
   "outputs": [
    {
     "name": "stdout",
     "output_type": "stream",
     "text": [
      "Benchmark Vendor Accuracy: 76.0 %\n",
      "Benchmark Invoice Number Accuracy: 78.0 %\n",
      "Benchmark Amount Accuracy: 90.0 %\n",
      "Benchmark Invoice Date Accuracy: 84.0 %\n"
     ]
    }
   ],
   "source": [
    "n = len(benchmark.index)\n",
    "vendor_acc = (benchmark[\"Correct Vendor\"].sum() / n) * 100\n",
    "number_acc = (benchmark[\"Correct Invoice Number\"].sum() / n) * 100\n",
    "amount_acc = (benchmark[\"Correct Amount\"].sum() / n) * 100\n",
    "date_acc = (benchmark[\"Correct Invoice Date\"].sum() / n) * 100\n",
    "print(f\"Benchmark Vendor Accuracy: {vendor_acc} %\")\n",
    "print(f\"Benchmark Invoice Number Accuracy: {number_acc} %\")\n",
    "print(f\"Benchmark Amount Accuracy: {amount_acc} %\")\n",
    "print(f\"Benchmark Invoice Date Accuracy: {date_acc} %\")"
   ]
  },
  {
   "cell_type": "code",
   "execution_count": 89,
   "metadata": {},
   "outputs": [],
   "source": [
    "benchmark_pdf = benchmark.loc[scan[\"Scan\"] == False,:]\n",
    "benchmark_scan = benchmark.loc[scan[\"Scan\"] == True,:]"
   ]
  },
  {
   "cell_type": "code",
   "execution_count": 90,
   "metadata": {},
   "outputs": [
    {
     "data": {
      "image/png": "[encoded data removed]",
      "text/plain": [
       "<Figure size 640x480 with 1 Axes>"
      ]
     },
     "metadata": {},
     "output_type": "display_data"
    }
   ],
   "source": [
    "plt.title(\"Benchmark Scan vs. PDF\")\n",
    "plt.xticks(range(1,5))\n",
    "plt.hist([benchmark_scan.Quota,benchmark_pdf.Quota],bins=[0.75+0.5*i for i in range(8)])\n",
    "plt.legend([\"Scan\",\"PDF\"])\n",
    "plt.show()"
   ]
  },
  {
   "cell_type": "markdown",
   "metadata": {},
   "source": [
    "*Start Test Results*\n"
   ]
  },
  {
   "cell_type": "code",
   "execution_count": 8,
   "metadata": {},
   "outputs": [
    {
     "name": "stdout",
     "output_type": "stream",
     "text": [
      "50\n"
     ]
    },
    {
     "data": {
      "text/html": [
       "<div>\n",
       "<style scoped>\n",
       "    .dataframe tbody tr th:only-of-type {\n",
       "        vertical-align: middle;\n",
       "    }\n",
       "\n",
       "    .dataframe tbody tr th {\n",
       "        vertical-align: top;\n",
       "    }\n",
       "\n",
       "    .dataframe thead th {\n",
       "        text-align: right;\n",
       "    }\n",
       "</style>\n",
       "<table border=\"1\" class=\"dataframe\">\n",
       "  <thead>\n",
       "    <tr style=\"text-align: right;\">\n",
       "      <th></th>\n",
       "      <th>File</th>\n",
       "      <th>Extracted Vendor</th>\n",
       "      <th>Extracted Invoice Number</th>\n",
       "      <th>Extracted Amount</th>\n",
       "      <th>Extracted Invoice Date</th>\n",
       "    </tr>\n",
       "  </thead>\n",
       "  <tbody>\n",
       "    <tr>\n",
       "      <th>0</th>\n",
       "      <td>AH_Siedle_Reifenwechsel_24042020.pdf</td>\n",
       "      <td>Autohaus Siedle GmbH &amp; Co. KG</td>\n",
       "      <td>110024940</td>\n",
       "      <td>79.85</td>\n",
       "      <td>04/24/2020 00:00:00</td>\n",
       "    </tr>\n",
       "    <tr>\n",
       "      <th>1</th>\n",
       "      <td>ALU_RAHMEN_Rechnung_27112023.pdf</td>\n",
       "      <td>NaN</td>\n",
       "      <td>1164/11/2023</td>\n",
       "      <td>23.70</td>\n",
       "      <td>NaN</td>\n",
       "    </tr>\n",
       "    <tr>\n",
       "      <th>2</th>\n",
       "      <td>ASFiNAG_Maut_Bosruck_24092024.pdf</td>\n",
       "      <td>AISIFIiINIAIG</td>\n",
       "      <td>60510300377039</td>\n",
       "      <td>6.50</td>\n",
       "      <td>09/24/2024 00:00:00</td>\n",
       "    </tr>\n",
       "    <tr>\n",
       "      <th>3</th>\n",
       "      <td>Autohaus_Siedle_Reifenwechsel_Einlagerung_2311...</td>\n",
       "      <td>Autohaus Siedle GmbH &amp; Co. KG</td>\n",
       "      <td>110033602</td>\n",
       "      <td>84.80</td>\n",
       "      <td>11/23/2021 00:00:00</td>\n",
       "    </tr>\n",
       "    <tr>\n",
       "      <th>4</th>\n",
       "      <td>Autohaus_Siedle_Räder_wechseln_18112022.pdf</td>\n",
       "      <td>Autohaus Siedle GmbH &amp; Co. KG</td>\n",
       "      <td>110038956</td>\n",
       "      <td>84.80</td>\n",
       "      <td>11/18/2022 00:00:00</td>\n",
       "    </tr>\n",
       "  </tbody>\n",
       "</table>\n",
       "</div>"
      ],
      "text/plain": [
       "                                                File  \\\n",
       "0               AH_Siedle_Reifenwechsel_24042020.pdf   \n",
       "1                   ALU_RAHMEN_Rechnung_27112023.pdf   \n",
       "2                  ASFiNAG_Maut_Bosruck_24092024.pdf   \n",
       "3  Autohaus_Siedle_Reifenwechsel_Einlagerung_2311...   \n",
       "4        Autohaus_Siedle_Räder_wechseln_18112022.pdf   \n",
       "\n",
       "                Extracted Vendor Extracted Invoice Number  Extracted Amount  \\\n",
       "0  Autohaus Siedle GmbH & Co. KG                110024940             79.85   \n",
       "1                            NaN             1164/11/2023             23.70   \n",
       "2                  AISIFIiINIAIG           60510300377039              6.50   \n",
       "3  Autohaus Siedle GmbH & Co. KG                110033602             84.80   \n",
       "4  Autohaus Siedle GmbH & Co. KG                110038956             84.80   \n",
       "\n",
       "  Extracted Invoice Date  \n",
       "0    04/24/2020 00:00:00  \n",
       "1                    NaN  \n",
       "2    09/24/2024 00:00:00  \n",
       "3    11/23/2021 00:00:00  \n",
       "4    11/18/2022 00:00:00  "
      ]
     },
     "execution_count": 8,
     "metadata": {},
     "output_type": "execute_result"
    }
   ],
   "source": [
    "test_data = pd.DataFrame(columns=[\"File\",\"Extracted Vendor\",\"Extracted Invoice Number\",\"Extracted Amount\",\"Extracted Invoice Date\"])\n",
    "folder = \"./Test_Results/\"\n",
    "files = listdir(folder)\n",
    "print(len(files))\n",
    "for file in files:\n",
    "    #print(file)\n",
    "    path = folder + file\n",
    "    test_data_new = pd.read_csv(path, sep=';', header=None)\n",
    "    test_data_new.columns = [\"File\",\"Extracted Vendor\",\"Extracted Invoice Number\",\"Extracted Amount\",\"Extracted Invoice Date\"]\n",
    "    #print(data_new.dtypes)\n",
    "    test_data = test_data._append(test_data_new,ignore_index=True)\n",
    "test_data.head()"
   ]
  },
  {
   "cell_type": "code",
   "execution_count": 9,
   "metadata": {},
   "outputs": [
    {
     "data": {
      "text/html": [
       "<div>\n",
       "<style scoped>\n",
       "    .dataframe tbody tr th:only-of-type {\n",
       "        vertical-align: middle;\n",
       "    }\n",
       "\n",
       "    .dataframe tbody tr th {\n",
       "        vertical-align: top;\n",
       "    }\n",
       "\n",
       "    .dataframe thead th {\n",
       "        text-align: right;\n",
       "    }\n",
       "</style>\n",
       "<table border=\"1\" class=\"dataframe\">\n",
       "  <thead>\n",
       "    <tr style=\"text-align: right;\">\n",
       "      <th></th>\n",
       "      <th>File</th>\n",
       "      <th>Extracted Vendor</th>\n",
       "      <th>Extracted Invoice Number</th>\n",
       "      <th>Extracted Amount</th>\n",
       "      <th>Extracted Invoice Date</th>\n",
       "    </tr>\n",
       "  </thead>\n",
       "  <tbody>\n",
       "    <tr>\n",
       "      <th>0</th>\n",
       "      <td>AH_Siedle_Reifenwechsel_24042020.pdf</td>\n",
       "      <td>Autohaus Siedle GmbH &amp; Co. KG</td>\n",
       "      <td>110024940</td>\n",
       "      <td>79.85</td>\n",
       "      <td>04/24/2020</td>\n",
       "    </tr>\n",
       "    <tr>\n",
       "      <th>1</th>\n",
       "      <td>ALU_RAHMEN_Rechnung_27112023.pdf</td>\n",
       "      <td>nan</td>\n",
       "      <td>1164/11/2023</td>\n",
       "      <td>23.7</td>\n",
       "      <td>NaN</td>\n",
       "    </tr>\n",
       "    <tr>\n",
       "      <th>2</th>\n",
       "      <td>ASFiNAG_Maut_Bosruck_24092024.pdf</td>\n",
       "      <td>AISIFIiINIAIG</td>\n",
       "      <td>60510300377039</td>\n",
       "      <td>6.5</td>\n",
       "      <td>09/24/2024</td>\n",
       "    </tr>\n",
       "    <tr>\n",
       "      <th>3</th>\n",
       "      <td>Autohaus_Siedle_Reifenwechsel_Einlagerung_2311...</td>\n",
       "      <td>Autohaus Siedle GmbH &amp; Co. KG</td>\n",
       "      <td>110033602</td>\n",
       "      <td>84.8</td>\n",
       "      <td>11/23/2021</td>\n",
       "    </tr>\n",
       "    <tr>\n",
       "      <th>4</th>\n",
       "      <td>Autohaus_Siedle_Räder_wechseln_18112022.pdf</td>\n",
       "      <td>Autohaus Siedle GmbH &amp; Co. KG</td>\n",
       "      <td>110038956</td>\n",
       "      <td>84.8</td>\n",
       "      <td>11/18/2022</td>\n",
       "    </tr>\n",
       "  </tbody>\n",
       "</table>\n",
       "</div>"
      ],
      "text/plain": [
       "                                                File  \\\n",
       "0               AH_Siedle_Reifenwechsel_24042020.pdf   \n",
       "1                   ALU_RAHMEN_Rechnung_27112023.pdf   \n",
       "2                  ASFiNAG_Maut_Bosruck_24092024.pdf   \n",
       "3  Autohaus_Siedle_Reifenwechsel_Einlagerung_2311...   \n",
       "4        Autohaus_Siedle_Räder_wechseln_18112022.pdf   \n",
       "\n",
       "                Extracted Vendor Extracted Invoice Number Extracted Amount  \\\n",
       "0  Autohaus Siedle GmbH & Co. KG                110024940            79.85   \n",
       "1                            nan             1164/11/2023             23.7   \n",
       "2                  AISIFIiINIAIG           60510300377039              6.5   \n",
       "3  Autohaus Siedle GmbH & Co. KG                110033602             84.8   \n",
       "4  Autohaus Siedle GmbH & Co. KG                110038956             84.8   \n",
       "\n",
       "  Extracted Invoice Date  \n",
       "0             04/24/2020  \n",
       "1                    NaN  \n",
       "2             09/24/2024  \n",
       "3             11/23/2021  \n",
       "4             11/18/2022  "
      ]
     },
     "execution_count": 9,
     "metadata": {},
     "output_type": "execute_result"
    }
   ],
   "source": [
    "test_data[\"Extracted Invoice Date\"] = test_data[\"Extracted Invoice Date\"].map(lambda x:x.split(\" \")[0],na_action=\"ignore\")\n",
    "test_data[\"Extracted Invoice Number\"] = test_data[\"Extracted Invoice Number\"].map(lambda x: \"nan\" if str(x) == \"\" else str(x).strip()).map(lambda x: \"nan\" if str(x) == \"\" else str(x).strip())\n",
    "test_data[\"Extracted Amount\"] = test_data[\"Extracted Amount\"].map(str)\n",
    "test_data[\"Extracted Vendor\"] = test_data[\"Extracted Vendor\"].map(str)\n",
    "\n",
    "test_data.head()"
   ]
  },
  {
   "cell_type": "code",
   "execution_count": 10,
   "metadata": {},
   "outputs": [
    {
     "data": {
      "text/html": [
       "<div>\n",
       "<style scoped>\n",
       "    .dataframe tbody tr th:only-of-type {\n",
       "        vertical-align: middle;\n",
       "    }\n",
       "\n",
       "    .dataframe tbody tr th {\n",
       "        vertical-align: top;\n",
       "    }\n",
       "\n",
       "    .dataframe thead th {\n",
       "        text-align: right;\n",
       "    }\n",
       "</style>\n",
       "<table border=\"1\" class=\"dataframe\">\n",
       "  <thead>\n",
       "    <tr style=\"text-align: right;\">\n",
       "      <th></th>\n",
       "      <th>Extracted Vendor</th>\n",
       "      <th>Extracted Invoice Number</th>\n",
       "      <th>Extracted Amount</th>\n",
       "      <th>Extracted Invoice Date</th>\n",
       "      <th>Vendor</th>\n",
       "      <th>Invoice Number</th>\n",
       "      <th>Amount</th>\n",
       "      <th>Invoice Date</th>\n",
       "    </tr>\n",
       "    <tr>\n",
       "      <th>File</th>\n",
       "      <th></th>\n",
       "      <th></th>\n",
       "      <th></th>\n",
       "      <th></th>\n",
       "      <th></th>\n",
       "      <th></th>\n",
       "      <th></th>\n",
       "      <th></th>\n",
       "    </tr>\n",
       "  </thead>\n",
       "  <tbody>\n",
       "    <tr>\n",
       "      <th>AH_Siedle_Reifenwechsel_24042020.pdf</th>\n",
       "      <td>Autohaus Siedle GmbH &amp; Co. KG</td>\n",
       "      <td>110024940</td>\n",
       "      <td>79.85</td>\n",
       "      <td>04/24/2020</td>\n",
       "      <td>Autohaus Siedle GmbH &amp; Co. KG</td>\n",
       "      <td>110024940</td>\n",
       "      <td>79.85</td>\n",
       "      <td>04/24/2020</td>\n",
       "    </tr>\n",
       "    <tr>\n",
       "      <th>ALU_RAHMEN_Rechnung_27112023.pdf</th>\n",
       "      <td>nan</td>\n",
       "      <td>1164/11/2023</td>\n",
       "      <td>23.7</td>\n",
       "      <td>NaN</td>\n",
       "      <td>Alurahmen24</td>\n",
       "      <td>1164/11/2023</td>\n",
       "      <td>23.7</td>\n",
       "      <td>11/27/2023</td>\n",
       "    </tr>\n",
       "    <tr>\n",
       "      <th>ASFiNAG_Maut_Bosruck_24092024.pdf</th>\n",
       "      <td>AISIFIiINIAIG</td>\n",
       "      <td>60510300377039</td>\n",
       "      <td>6.5</td>\n",
       "      <td>09/24/2024</td>\n",
       "      <td>ASFiNAG</td>\n",
       "      <td>60510300377039</td>\n",
       "      <td>6.5</td>\n",
       "      <td>09/24/2024</td>\n",
       "    </tr>\n",
       "    <tr>\n",
       "      <th>Autohaus_Siedle_Reifenwechsel_Einlagerung_23112021.pdf</th>\n",
       "      <td>Autohaus Siedle GmbH &amp; Co. KG</td>\n",
       "      <td>110033602</td>\n",
       "      <td>84.8</td>\n",
       "      <td>11/23/2021</td>\n",
       "      <td>Autohaus Siedle GmbH &amp; Co. KG</td>\n",
       "      <td>110033602</td>\n",
       "      <td>84.8</td>\n",
       "      <td>11/23/2021</td>\n",
       "    </tr>\n",
       "    <tr>\n",
       "      <th>Autohaus_Siedle_Räder_wechseln_18112022.pdf</th>\n",
       "      <td>Autohaus Siedle GmbH &amp; Co. KG</td>\n",
       "      <td>110038956</td>\n",
       "      <td>84.8</td>\n",
       "      <td>11/18/2022</td>\n",
       "      <td>Autohaus Siedle GmbH &amp; Co. KG</td>\n",
       "      <td>110038956</td>\n",
       "      <td>84.8</td>\n",
       "      <td>11/18/2022</td>\n",
       "    </tr>\n",
       "  </tbody>\n",
       "</table>\n",
       "</div>"
      ],
      "text/plain": [
       "                                                                 Extracted Vendor  \\\n",
       "File                                                                                \n",
       "AH_Siedle_Reifenwechsel_24042020.pdf                Autohaus Siedle GmbH & Co. KG   \n",
       "ALU_RAHMEN_Rechnung_27112023.pdf                                              nan   \n",
       "ASFiNAG_Maut_Bosruck_24092024.pdf                                   AISIFIiINIAIG   \n",
       "Autohaus_Siedle_Reifenwechsel_Einlagerung_23112...  Autohaus Siedle GmbH & Co. KG   \n",
       "Autohaus_Siedle_Räder_wechseln_18112022.pdf         Autohaus Siedle GmbH & Co. KG   \n",
       "\n",
       "                                                   Extracted Invoice Number  \\\n",
       "File                                                                          \n",
       "AH_Siedle_Reifenwechsel_24042020.pdf                              110024940   \n",
       "ALU_RAHMEN_Rechnung_27112023.pdf                               1164/11/2023   \n",
       "ASFiNAG_Maut_Bosruck_24092024.pdf                            60510300377039   \n",
       "Autohaus_Siedle_Reifenwechsel_Einlagerung_23112...                110033602   \n",
       "Autohaus_Siedle_Räder_wechseln_18112022.pdf                       110038956   \n",
       "\n",
       "                                                   Extracted Amount  \\\n",
       "File                                                                  \n",
       "AH_Siedle_Reifenwechsel_24042020.pdf                          79.85   \n",
       "ALU_RAHMEN_Rechnung_27112023.pdf                               23.7   \n",
       "ASFiNAG_Maut_Bosruck_24092024.pdf                               6.5   \n",
       "Autohaus_Siedle_Reifenwechsel_Einlagerung_23112...             84.8   \n",
       "Autohaus_Siedle_Räder_wechseln_18112022.pdf                    84.8   \n",
       "\n",
       "                                                   Extracted Invoice Date  \\\n",
       "File                                                                        \n",
       "AH_Siedle_Reifenwechsel_24042020.pdf                           04/24/2020   \n",
       "ALU_RAHMEN_Rechnung_27112023.pdf                                      NaN   \n",
       "ASFiNAG_Maut_Bosruck_24092024.pdf                              09/24/2024   \n",
       "Autohaus_Siedle_Reifenwechsel_Einlagerung_23112...             11/23/2021   \n",
       "Autohaus_Siedle_Räder_wechseln_18112022.pdf                    11/18/2022   \n",
       "\n",
       "                                                                           Vendor  \\\n",
       "File                                                                                \n",
       "AH_Siedle_Reifenwechsel_24042020.pdf                Autohaus Siedle GmbH & Co. KG   \n",
       "ALU_RAHMEN_Rechnung_27112023.pdf                                      Alurahmen24   \n",
       "ASFiNAG_Maut_Bosruck_24092024.pdf                                         ASFiNAG   \n",
       "Autohaus_Siedle_Reifenwechsel_Einlagerung_23112...  Autohaus Siedle GmbH & Co. KG   \n",
       "Autohaus_Siedle_Räder_wechseln_18112022.pdf         Autohaus Siedle GmbH & Co. KG   \n",
       "\n",
       "                                                    Invoice Number Amount  \\\n",
       "File                                                                        \n",
       "AH_Siedle_Reifenwechsel_24042020.pdf                     110024940  79.85   \n",
       "ALU_RAHMEN_Rechnung_27112023.pdf                      1164/11/2023   23.7   \n",
       "ASFiNAG_Maut_Bosruck_24092024.pdf                   60510300377039    6.5   \n",
       "Autohaus_Siedle_Reifenwechsel_Einlagerung_23112...       110033602   84.8   \n",
       "Autohaus_Siedle_Räder_wechseln_18112022.pdf              110038956   84.8   \n",
       "\n",
       "                                                   Invoice Date  \n",
       "File                                                             \n",
       "AH_Siedle_Reifenwechsel_24042020.pdf                 04/24/2020  \n",
       "ALU_RAHMEN_Rechnung_27112023.pdf                     11/27/2023  \n",
       "ASFiNAG_Maut_Bosruck_24092024.pdf                    09/24/2024  \n",
       "Autohaus_Siedle_Reifenwechsel_Einlagerung_23112...   11/23/2021  \n",
       "Autohaus_Siedle_Räder_wechseln_18112022.pdf          11/18/2022  "
      ]
     },
     "execution_count": 10,
     "metadata": {},
     "output_type": "execute_result"
    }
   ],
   "source": [
    "test_results = test_data.set_index(\"File\").join(db.set_index(\"File\"),how=\"inner\")\n",
    "test_results.head()"
   ]
  },
  {
   "cell_type": "code",
   "execution_count": 11,
   "metadata": {},
   "outputs": [],
   "source": [
    "test_results[\"Correct Vendor\"] = test_results[\"Extracted Vendor\"] == test_results[\"Vendor\"] \n",
    "for file,ext_ven,ven in zip(test_results.index, test_results[\"Extracted Vendor\"], test_results[\"Vendor\"]):\n",
    "    test_results.loc[file,\"Correct Vendor\"] = ext_ven in ven or ven in ext_ven\n",
    "test_results[\"Correct Invoice Number\"] = test_results[\"Extracted Invoice Number\"] == test_results[\"Invoice Number\"]\n",
    "test_results[\"Correct Amount\"] = test_results[\"Extracted Amount\"] == test_results[\"Amount\"]\n",
    "test_results[\"Correct Invoice Date\"] = test_results[\"Extracted Invoice Date\"] == test_results[\"Invoice Date\"]\n",
    "test_results[\"Quota\"] = test_results[\"Correct Vendor\"].map(int) + test_results[\"Correct Invoice Number\"].map(int) + test_results[\"Correct Amount\"].map(int) + test_results[\"Correct Invoice Date\"].map(int)"
   ]
  },
  {
   "cell_type": "code",
   "execution_count": 12,
   "metadata": {},
   "outputs": [
    {
     "data": {
      "text/plain": [
       "(array([ 1.,  8., 10., 31.]),\n",
       " array([1., 2., 3., 4., 5.]),\n",
       " <BarContainer object of 4 artists>)"
      ]
     },
     "execution_count": 12,
     "metadata": {},
     "output_type": "execute_result"
    },
    {
     "data": {
      "image/png": "[encoded data removed]",
      "text/plain": [
       "<Figure size 640x480 with 1 Axes>"
      ]
     },
     "metadata": {},
     "output_type": "display_data"
    }
   ],
   "source": [
    "plt.xticks(range(1,5))\n",
    "plt.hist(test_results.Quota,bins=[1,2,3,4,5],align=\"left\",rwidth=0.5)"
   ]
  },
  {
   "cell_type": "code",
   "execution_count": 13,
   "metadata": {},
   "outputs": [
    {
     "data": {
      "text/plain": [
       "(array([50., 49., 41., 31.]),\n",
       " array([1., 2., 3., 4., 5.]),\n",
       " <BarContainer object of 4 artists>)"
      ]
     },
     "execution_count": 13,
     "metadata": {},
     "output_type": "execute_result"
    },
    {
     "data": {
      "image/png": "[encoded data removed]",
      "text/plain": [
       "<Figure size 640x480 with 1 Axes>"
      ]
     },
     "metadata": {},
     "output_type": "display_data"
    }
   ],
   "source": [
    "plt.xticks(range(1,5))\n",
    "plt.hist(test_results.Quota,bins=[1,2,3,4,5],align=\"left\",rwidth=0.5,cumulative=-1)"
   ]
  },
  {
   "cell_type": "code",
   "execution_count": 24,
   "metadata": {},
   "outputs": [
    {
     "data": {
      "image/png": "[encoded data removed]",
      "text/plain": [
       "<Figure size 640x480 with 1 Axes>"
      ]
     },
     "metadata": {},
     "output_type": "display_data"
    }
   ],
   "source": [
    "plt.title(\"Benchmark vs. Custom Model\")\n",
    "plt.xticks(range(1,5))\n",
    "plt.hist([benchmark.Quota,test_results.Quota],bins=[1,2,3,4,5],align=\"left\",rwidth=0.5)\n",
    "plt.legend([\"Benchmark\",\"Custom Model\"])\n",
    "plt.show()"
   ]
  },
  {
   "cell_type": "code",
   "execution_count": null,
   "metadata": {},
   "outputs": [],
   "source": [
    "np.array([[ 3.,  4., 19., 24.],\n",
    "        [ 1.,  8., 10., 31.]])"
   ]
  },
  {
   "cell_type": "code",
   "execution_count": 25,
   "metadata": {},
   "outputs": [
    {
     "data": {
      "image/png": "[encoded data removed]",
      "text/plain": [
       "<Figure size 640x480 with 1 Axes>"
      ]
     },
     "metadata": {},
     "output_type": "display_data"
    }
   ],
   "source": [
    "plt.title(\"Benchmark vs. Custom Model\")\n",
    "plt.xticks(range(1,5))\n",
    "plt.hist([benchmark.Quota,test_results.Quota],bins=[1,2,3,4,5],align=\"left\",rwidth=0.5,cumulative=-1)\n",
    "plt.legend([\"Benchmark\",\"Custom Model\"])\n",
    "plt.show()"
   ]
  },
  {
   "cell_type": "code",
   "execution_count": null,
   "metadata": {},
   "outputs": [],
   "source": [
    "np.array([[50., 47., 43., 24.],\n",
    "        [50., 49., 41., 31.]])"
   ]
  },
  {
   "cell_type": "code",
   "execution_count": 100,
   "metadata": {},
   "outputs": [
    {
     "name": "stdout",
     "output_type": "stream",
     "text": [
      "Model Vendor Accuracy: 76.0 %\n",
      "Model Invoice Number Accuracy: 88.0 %\n",
      "Model Amount Accuracy: 88.0 %\n",
      "Model Invoice Date Accuracy: 90.0 %\n"
     ]
    }
   ],
   "source": [
    "n = len(test_results.index)\n",
    "vendor_acc = (test_results[\"Correct Vendor\"].sum() / n) * 100\n",
    "number_acc = (test_results[\"Correct Invoice Number\"].sum() / n) * 100\n",
    "amount_acc = (test_results[\"Correct Amount\"].sum() / n) * 100\n",
    "date_acc = (test_results[\"Correct Invoice Date\"].sum() / n) * 100\n",
    "print(f\"Model Vendor Accuracy: {vendor_acc} %\")\n",
    "print(f\"Model Invoice Number Accuracy: {number_acc} %\")\n",
    "print(f\"Model Amount Accuracy: {amount_acc} %\")\n",
    "print(f\"Model Invoice Date Accuracy: {date_acc} %\")"
   ]
  },
  {
   "cell_type": "code",
   "execution_count": 101,
   "metadata": {},
   "outputs": [
    {
     "name": "stdout",
     "output_type": "stream",
     "text": [
      "Benchmark Vendor Accuracy: 76.0 %\n",
      "Benchmark Invoice Number Accuracy: 78.0 %\n",
      "Benchmark Amount Accuracy: 90.0 %\n",
      "Benchmark Invoice Date Accuracy: 84.0 %\n"
     ]
    }
   ],
   "source": [
    "n = len(benchmark.index)\n",
    "vendor_acc = (benchmark[\"Correct Vendor\"].sum() / n) * 100\n",
    "number_acc = (benchmark[\"Correct Invoice Number\"].sum() / n) * 100\n",
    "amount_acc = (benchmark[\"Correct Amount\"].sum() / n) * 100\n",
    "date_acc = (benchmark[\"Correct Invoice Date\"].sum() / n) * 100\n",
    "print(f\"Benchmark Vendor Accuracy: {vendor_acc} %\")\n",
    "print(f\"Benchmark Invoice Number Accuracy: {number_acc} %\")\n",
    "print(f\"Benchmark Amount Accuracy: {amount_acc} %\")\n",
    "print(f\"Benchmark Invoice Date Accuracy: {date_acc} %\")"
   ]
  },
  {
   "cell_type": "code",
   "execution_count": 102,
   "metadata": {},
   "outputs": [
    {
     "data": {
      "text/html": [
       "<div>\n",
       "<style scoped>\n",
       "    .dataframe tbody tr th:only-of-type {\n",
       "        vertical-align: middle;\n",
       "    }\n",
       "\n",
       "    .dataframe tbody tr th {\n",
       "        vertical-align: top;\n",
       "    }\n",
       "\n",
       "    .dataframe thead th {\n",
       "        text-align: right;\n",
       "    }\n",
       "</style>\n",
       "<table border=\"1\" class=\"dataframe\">\n",
       "  <thead>\n",
       "    <tr style=\"text-align: right;\">\n",
       "      <th></th>\n",
       "      <th>Extracted Vendor</th>\n",
       "      <th>Vendor</th>\n",
       "    </tr>\n",
       "    <tr>\n",
       "      <th>File</th>\n",
       "      <th></th>\n",
       "      <th></th>\n",
       "    </tr>\n",
       "  </thead>\n",
       "  <tbody>\n",
       "    <tr>\n",
       "      <th>ALU_RAHMEN_Rechnung_27112023.pdf</th>\n",
       "      <td>nan</td>\n",
       "      <td>Alurahmen24</td>\n",
       "    </tr>\n",
       "    <tr>\n",
       "      <th>ASFiNAG_Maut_Bosruck_24092024.pdf</th>\n",
       "      <td>AISIFIiINIAIG</td>\n",
       "      <td>ASFiNAG</td>\n",
       "    </tr>\n",
       "    <tr>\n",
       "      <th>Bahn_Köln_Koblenz_26092022.pdf</th>\n",
       "      <td>nan</td>\n",
       "      <td>DB</td>\n",
       "    </tr>\n",
       "    <tr>\n",
       "      <th>ENI_Tankstelle_Vomp_18092024.pdf</th>\n",
       "      <td>GUTMANN GMBH</td>\n",
       "      <td>GUTMANN Gmbh ENI Tankstelle</td>\n",
       "    </tr>\n",
       "    <tr>\n",
       "      <th>Hotel_Kreuz_Stempfle_Zipplingen_21082021.pdf</th>\n",
       "      <td>Stemplle's ,,Stempfle's\"</td>\n",
       "      <td>Hotel Kreuz Stempfle Zipplingen</td>\n",
       "    </tr>\n",
       "    <tr>\n",
       "      <th>Hotel_Turnerwirt_08092020.pdf</th>\n",
       "      <td>TURNERWIRT GmbH.</td>\n",
       "      <td>Hotel Turnerwirt, AT</td>\n",
       "    </tr>\n",
       "    <tr>\n",
       "      <th>Maut_Karawankentunnel_10092020.pdf</th>\n",
       "      <td>Karawarben</td>\n",
       "      <td>DARS</td>\n",
       "    </tr>\n",
       "    <tr>\n",
       "      <th>Norton_Receipt_AP1530580409_25052024.pdf</th>\n",
       "      <td>norton</td>\n",
       "      <td>NortonLifeLock Ireland Limited</td>\n",
       "    </tr>\n",
       "    <tr>\n",
       "      <th>Total_Station_ARTERN_Tankbeleg_28042020.pdf</th>\n",
       "      <td>nan</td>\n",
       "      <td>Total Station Artern</td>\n",
       "    </tr>\n",
       "    <tr>\n",
       "      <th>Vicloon_Halogen_Lampen_161019.pdf</th>\n",
       "      <td>nan</td>\n",
       "      <td>Amazon</td>\n",
       "    </tr>\n",
       "    <tr>\n",
       "      <th>Zwierad_Stadler_2534957.PDF</th>\n",
       "      <td>Sfadlers</td>\n",
       "      <td>Stadler</td>\n",
       "    </tr>\n",
       "    <tr>\n",
       "      <th>ÖAMTC_AT_Autobahnmaut_10_Tage_18092024.pdf</th>\n",
       "      <td>UAMTC</td>\n",
       "      <td>ÖAMTC</td>\n",
       "    </tr>\n",
       "  </tbody>\n",
       "</table>\n",
       "</div>"
      ],
      "text/plain": [
       "                                                      Extracted Vendor  \\\n",
       "File                                                                     \n",
       "ALU_RAHMEN_Rechnung_27112023.pdf                                   nan   \n",
       "ASFiNAG_Maut_Bosruck_24092024.pdf                        AISIFIiINIAIG   \n",
       "Bahn_Köln_Koblenz_26092022.pdf                                     nan   \n",
       "ENI_Tankstelle_Vomp_18092024.pdf                          GUTMANN GMBH   \n",
       "Hotel_Kreuz_Stempfle_Zipplingen_21082021.pdf  Stemplle's ,,Stempfle's\"   \n",
       "Hotel_Turnerwirt_08092020.pdf                         TURNERWIRT GmbH.   \n",
       "Maut_Karawankentunnel_10092020.pdf                          Karawarben   \n",
       "Norton_Receipt_AP1530580409_25052024.pdf                        norton   \n",
       "Total_Station_ARTERN_Tankbeleg_28042020.pdf                        nan   \n",
       "Vicloon_Halogen_Lampen_161019.pdf                                  nan   \n",
       "Zwierad_Stadler_2534957.PDF                                   Sfadlers   \n",
       "ÖAMTC_AT_Autobahnmaut_10_Tage_18092024.pdf                       UAMTC   \n",
       "\n",
       "                                                                       Vendor  \n",
       "File                                                                           \n",
       "ALU_RAHMEN_Rechnung_27112023.pdf                                  Alurahmen24  \n",
       "ASFiNAG_Maut_Bosruck_24092024.pdf                                     ASFiNAG  \n",
       "Bahn_Köln_Koblenz_26092022.pdf                                             DB  \n",
       "ENI_Tankstelle_Vomp_18092024.pdf                 GUTMANN Gmbh ENI Tankstelle   \n",
       "Hotel_Kreuz_Stempfle_Zipplingen_21082021.pdf  Hotel Kreuz Stempfle Zipplingen  \n",
       "Hotel_Turnerwirt_08092020.pdf                            Hotel Turnerwirt, AT  \n",
       "Maut_Karawankentunnel_10092020.pdf                                       DARS  \n",
       "Norton_Receipt_AP1530580409_25052024.pdf       NortonLifeLock Ireland Limited  \n",
       "Total_Station_ARTERN_Tankbeleg_28042020.pdf              Total Station Artern  \n",
       "Vicloon_Halogen_Lampen_161019.pdf                                      Amazon  \n",
       "Zwierad_Stadler_2534957.PDF                                           Stadler  \n",
       "ÖAMTC_AT_Autobahnmaut_10_Tage_18092024.pdf                              ÖAMTC  "
      ]
     },
     "execution_count": 102,
     "metadata": {},
     "output_type": "execute_result"
    }
   ],
   "source": [
    "inv = test_results.loc[test_results[\"Correct Amount\"] == False,[\"Extracted Amount\",\"Amount\"]]\n",
    "inv = test_results.loc[test_results[\"Correct Invoice Number\"] == False,[\"Extracted Invoice Number\",\"Invoice Number\"]]\n",
    "inv = test_results.loc[test_results[\"Correct Vendor\"] == False,[\"Extracted Vendor\",\"Vendor\"]]\n",
    "#inv = test_results.loc[test_results[\"Correct Invoice Date\"] == False,[\"Extracted Invoice Date\",\"Invoice Date\"]]\n",
    "\n",
    "inv"
   ]
  },
  {
   "cell_type": "code",
   "execution_count": 103,
   "metadata": {},
   "outputs": [],
   "source": [
    "test_results_pdf = test_results.loc[scan[\"Scan\"] == False,:]\n",
    "test_results_scan = test_results.loc[scan[\"Scan\"] == True,:]"
   ]
  },
  {
   "cell_type": "code",
   "execution_count": 104,
   "metadata": {},
   "outputs": [
    {
     "data": {
      "image/png": "[encoded data removed]",
      "text/plain": [
       "<Figure size 640x480 with 1 Axes>"
      ]
     },
     "metadata": {},
     "output_type": "display_data"
    }
   ],
   "source": [
    "plt.title(\"Model Scan vs. PDF\")\n",
    "plt.xticks(range(1,5))\n",
    "plt.hist([test_results_scan.Quota,test_results_pdf.Quota],bins=[1,2,3,4,5],align=\"left\",rwidth=0.5)\n",
    "plt.legend([\"Scan\",\"PDF\"])\n",
    "plt.show()"
   ]
  },
  {
   "cell_type": "code",
   "execution_count": 105,
   "metadata": {},
   "outputs": [
    {
     "data": {
      "image/png": "[encoded data removed]",
      "text/plain": [
       "<Figure size 640x480 with 1 Axes>"
      ]
     },
     "metadata": {},
     "output_type": "display_data"
    }
   ],
   "source": [
    "plt.title(\"Model Scan vs. PDF\")\n",
    "plt.xticks(range(1,5))\n",
    "plt.hist([test_results_scan.Quota,test_results_pdf.Quota],bins=[1,2,3,4,5],align=\"left\",rwidth=0.5,cumulative=-1)\n",
    "plt.legend([\"Scan\",\"PDF\"])\n",
    "plt.show()"
   ]
  },
  {
   "cell_type": "code",
   "execution_count": 106,
   "metadata": {},
   "outputs": [
    {
     "data": {
      "image/png": "[encoded data removed]",
      "text/plain": [
       "<Figure size 640x480 with 1 Axes>"
      ]
     },
     "metadata": {},
     "output_type": "display_data"
    }
   ],
   "source": [
    "plt.title(\"Custom Model vs. Benchmark on Scan\")\n",
    "plt.xticks(range(1,5))\n",
    "plt.hist([benchmark_scan.Quota,test_results_scan.Quota],bins=[1,2,3,4,5],align=\"left\",rwidth=0.5)\n",
    "plt.legend([\"Benchmark\",\"Custom Model\"])\n",
    "plt.show()"
   ]
  },
  {
   "cell_type": "code",
   "execution_count": null,
   "metadata": {},
   "outputs": [
    {
     "ename": "NameError",
     "evalue": "name 'benchmark_scan' is not defined",
     "output_type": "error",
     "traceback": [
      "\u001b[1;31m---------------------------------------------------------------------------\u001b[0m",
      "\u001b[1;31mNameError\u001b[0m                                 Traceback (most recent call last)",
      "Cell \u001b[1;32mIn[16], line 3\u001b[0m\n\u001b[0;32m      1\u001b[0m plt\u001b[38;5;241m.\u001b[39mtitle(\u001b[38;5;124m\"\u001b[39m\u001b[38;5;124mCustom Model vs. Benchmark on Scan\u001b[39m\u001b[38;5;124m\"\u001b[39m)\n\u001b[0;32m      2\u001b[0m plt\u001b[38;5;241m.\u001b[39mxticks(\u001b[38;5;28mrange\u001b[39m(\u001b[38;5;241m1\u001b[39m,\u001b[38;5;241m5\u001b[39m))\n\u001b[1;32m----> 3\u001b[0m plt\u001b[38;5;241m.\u001b[39mhist([\u001b[43mbenchmark_scan\u001b[49m\u001b[38;5;241m.\u001b[39mQuota,test_results_scan\u001b[38;5;241m.\u001b[39mQuota],bins\u001b[38;5;241m=\u001b[39m[\u001b[38;5;241m1\u001b[39m,\u001b[38;5;241m2\u001b[39m,\u001b[38;5;241m3\u001b[39m,\u001b[38;5;241m4\u001b[39m,\u001b[38;5;241m5\u001b[39m],align\u001b[38;5;241m=\u001b[39m\u001b[38;5;124m\"\u001b[39m\u001b[38;5;124mleft\u001b[39m\u001b[38;5;124m\"\u001b[39m,rwidth\u001b[38;5;241m=\u001b[39m\u001b[38;5;241m0.5\u001b[39m,cumulative\u001b[38;5;241m=\u001b[39m\u001b[38;5;241m-\u001b[39m\u001b[38;5;241m1\u001b[39m)\n\u001b[0;32m      4\u001b[0m plt\u001b[38;5;241m.\u001b[39mlegend([\u001b[38;5;124m\"\u001b[39m\u001b[38;5;124mBenchmark\u001b[39m\u001b[38;5;124m\"\u001b[39m,\u001b[38;5;124m\"\u001b[39m\u001b[38;5;124mCustom Model\u001b[39m\u001b[38;5;124m\"\u001b[39m])\n",
      "\u001b[1;31mNameError\u001b[0m: name 'benchmark_scan' is not defined"
     ]
    },
    {
     "data": {
      "image/png": "[encoded data removed]",
      "text/plain": [
       "<Figure size 640x480 with 1 Axes>"
      ]
     },
     "metadata": {},
     "output_type": "display_data"
    }
   ],
   "source": [
    "plt.title(\"Custom Model vs. Benchmark on Scan\")\n",
    "plt.xticks(range(1,5))\n",
    "plt.hist([benchmark_scan.Quota,test_results_scan.Quota],bins=[1,2,3,4,5],align=\"left\",rwidth=0.5,cumulative=-1)\n",
    "plt.legend([\"Benchmark\",\"Custom Model\"])\n",
    "plt.show()"
   ]
  },
  {
   "cell_type": "code",
   "execution_count": 108,
   "metadata": {},
   "outputs": [
    {
     "data": {
      "image/png": "[encoded data removed]",
      "text/plain": [
       "<Figure size 640x480 with 1 Axes>"
      ]
     },
     "metadata": {},
     "output_type": "display_data"
    }
   ],
   "source": [
    "plt.title(\"Custom Model vs. Benchmark on PDF\")\n",
    "plt.xticks(range(1,5))\n",
    "plt.hist([benchmark_pdf.Quota,test_results_pdf.Quota],bins=[1,2,3,4,5],align=\"left\",rwidth=0.5)\n",
    "plt.legend([\"Benchmark\",\"Custom Model\"])\n",
    "plt.show()"
   ]
  },
  {
   "cell_type": "code",
   "execution_count": 109,
   "metadata": {},
   "outputs": [
    {
     "data": {
      "image/png": "[encoded data removed]",
      "text/plain": [
       "<Figure size 640x480 with 1 Axes>"
      ]
     },
     "metadata": {},
     "output_type": "display_data"
    }
   ],
   "source": [
    "plt.title(\"Custom Model vs. Benchmark on PDF\")\n",
    "plt.xticks(range(1,5))\n",
    "plt.hist([benchmark_pdf.Quota,test_results_pdf.Quota],bins=[1,2,3,4,5],align=\"left\",rwidth=0.5,cumulative=-1)\n",
    "plt.legend([\"Benchmark\",\"Custom Model\"])\n",
    "plt.show()"
   ]
  },
  {
   "cell_type": "code",
   "execution_count": 134,
   "metadata": {},
   "outputs": [
    {
     "name": "stdout",
     "output_type": "stream",
     "text": [
      "Model Performance\n",
      "PDF Accuracy:\n",
      "Vendor Accuracy: 79.17 %\n",
      "Invoice Number Accuracy: 95.83 %\n",
      "Amount Accuracy: 83.33 %\n",
      "Invoice Date Accuracy: 87.50 %\n",
      "Scan Accuracy:\n",
      "Vendor Accuracy: 73.08 %\n",
      "Invoice Number Accuracy: 80.77 %\n",
      "Amount Accuracy: 92.31 %\n",
      "Invoice Date Accuracy: 92.31 %\n"
     ]
    }
   ],
   "source": [
    "n = test_results_pdf.shape[0]\n",
    "print(\"Model Performance\")\n",
    "vendor_acc = (test_results_pdf[\"Correct Vendor\"].sum() / n) * 100\n",
    "number_acc = (test_results_pdf[\"Correct Invoice Number\"].sum() / n) * 100\n",
    "amount_acc = (test_results_pdf[\"Correct Amount\"].sum() / n) * 100\n",
    "date_acc = (test_results_pdf[\"Correct Invoice Date\"].sum() / n) * 100\n",
    "print(\"PDF Accuracy:\")\n",
    "print(f\"Vendor Accuracy: {vendor_acc:.2f} %\")\n",
    "print(f\"Invoice Number Accuracy: {number_acc:.2f} %\")\n",
    "print(f\"Amount Accuracy: {amount_acc:.2f} %\")\n",
    "print(f\"Invoice Date Accuracy: {date_acc:.2f} %\")\n",
    "n = test_results_scan.shape[0]\n",
    "vendor_acc = (test_results_scan[\"Correct Vendor\"].sum() / n) * 100\n",
    "number_acc = (test_results_scan[\"Correct Invoice Number\"].sum() / n) * 100\n",
    "amount_acc = (test_results_scan[\"Correct Amount\"].sum() / n) * 100\n",
    "date_acc = (test_results_scan[\"Correct Invoice Date\"].sum() / n) * 100\n",
    "print(\"Scan Accuracy:\")\n",
    "print(f\"Vendor Accuracy: {vendor_acc:.2f} %\")\n",
    "print(f\"Invoice Number Accuracy: {number_acc:.2f} %\")\n",
    "print(f\"Amount Accuracy: {amount_acc:.2f} %\")\n",
    "print(f\"Invoice Date Accuracy: {date_acc:.2f} %\")"
   ]
  },
  {
   "cell_type": "code",
   "execution_count": 127,
   "metadata": {},
   "outputs": [
    {
     "name": "stdout",
     "output_type": "stream",
     "text": [
      "Benchmark performance:\n",
      "PDF Accuracy:\n",
      "Vendor Accuracy: 87.5 %\n",
      "Invoice Number Accuracy: 87.5 %\n",
      "Amount Accuracy: 87.5 %\n",
      "Invoice Date Accuracy: 83.33 %\n",
      "Scan Accuracy:\n",
      "Vendor Accuracy: 65.38 %\n",
      "Invoice Number Accuracy: 69.23 %\n",
      "Amount Accuracy: 92.31 %\n",
      "Invoice Date Accuracy: 84.62 %\n"
     ]
    }
   ],
   "source": [
    "n = benchmark_pdf.shape[0]\n",
    "print(\"Benchmark performance:\")\n",
    "vendor_acc = (benchmark_pdf[\"Correct Vendor\"].sum() / n) * 100\n",
    "number_acc = (benchmark_pdf[\"Correct Invoice Number\"].sum() / n) * 100\n",
    "amount_acc = (benchmark_pdf[\"Correct Amount\"].sum() / n) * 100\n",
    "date_acc = (benchmark_pdf[\"Correct Invoice Date\"].sum() / n) * 100\n",
    "print(\"PDF Accuracy:\")\n",
    "print(f\"Vendor Accuracy: {vendor_acc} %\")\n",
    "print(f\"Invoice Number Accuracy: {number_acc} %\")\n",
    "print(f\"Amount Accuracy: {amount_acc} %\")\n",
    "print(f\"Invoice Date Accuracy: {date_acc:.2f} %\")\n",
    "n = benchmark_scan.shape[0]\n",
    "vendor_acc = (benchmark_scan[\"Correct Vendor\"].sum() / n) * 100\n",
    "number_acc = (benchmark_scan[\"Correct Invoice Number\"].sum() / n) * 100\n",
    "amount_acc = (benchmark_scan[\"Correct Amount\"].sum() / n) * 100\n",
    "date_acc = (benchmark_scan[\"Correct Invoice Date\"].sum() / n) * 100\n",
    "print(\"Scan Accuracy:\")\n",
    "print(f\"Vendor Accuracy: {vendor_acc:.2f} %\")\n",
    "print(f\"Invoice Number Accuracy: {number_acc:.2f} %\")\n",
    "print(f\"Amount Accuracy: {amount_acc:.2f} %\")\n",
    "print(f\"Invoice Date Accuracy: {date_acc:.2f} %\")"
   ]
  },
  {
   "cell_type": "code",
   "execution_count": 128,
   "metadata": {},
   "outputs": [
    {
     "name": "stdout",
     "output_type": "stream",
     "text": [
      "Test Set complete\n",
      "Vendor Null: 8.00 %\n",
      "Invoice Number Null: 6.00 %\n",
      "Amount Null: 6.00 %\n",
      "Invoice Date Null: 8.00 %\n",
      "Vendor Accuracy (excluding Null): 82.61 %\n",
      "Invoice Number Accuracy (excluding Null): 93.62 %\n",
      "Amount Accuracy (excluding Null): 93.62 %\n",
      "Invoice Date Accuracy (excluding Null): 97.83 %\n"
     ]
    }
   ],
   "source": [
    "n = len(test_results.index)\n",
    "vendor_nan = test_results.loc[test_results[\"Correct Vendor\"]==False,\"Extracted Vendor\"].value_counts().get(\"nan\",0)\n",
    "number_nan = test_results.loc[test_results[\"Correct Invoice Number\"]==False,\"Extracted Invoice Number\"].value_counts().get(\"nan\",0)\n",
    "amount_nan = test_results.loc[test_results[\"Correct Amount\"]==False,\"Extracted Amount\"].value_counts().get(\"nan\",0)\n",
    "date_nan = test_results[\"Extracted Invoice Date\"].isna().sum()\n",
    "vendor_acc = (test_results[\"Correct Vendor\"].sum() / (n-vendor_nan)) * 100\n",
    "number_acc = (test_results[\"Correct Invoice Number\"].sum() / (n-number_nan)) * 100\n",
    "amount_acc = (test_results[\"Correct Amount\"].sum() / (n-amount_nan)) * 100\n",
    "date_acc = (test_results[\"Correct Invoice Date\"].sum() / (n-date_nan)) * 100\n",
    "print(\"Test Set complete\")\n",
    "print(f\"Vendor Null: {(vendor_nan/n)*100:.2f} %\")\n",
    "print(f\"Invoice Number Null: {(number_nan/n)*100:.2f} %\")\n",
    "print(f\"Amount Null: {(amount_nan/n)*100:.2f} %\")\n",
    "print(f\"Invoice Date Null: {(date_nan/n)*100:.2f} %\")\n",
    "print(f\"Vendor Accuracy (excluding Null): {vendor_acc:.2f} %\")\n",
    "print(f\"Invoice Number Accuracy (excluding Null): {number_acc:.2f} %\")\n",
    "print(f\"Amount Accuracy (excluding Null): {amount_acc:.2f} %\")\n",
    "print(f\"Invoice Date Accuracy (excluding Null): {date_acc:.2f} %\")"
   ]
  },
  {
   "cell_type": "code",
   "execution_count": 129,
   "metadata": {},
   "outputs": [
    {
     "name": "stdout",
     "output_type": "stream",
     "text": [
      "Test Set PDF\n",
      "Vendor Null: 12.50 %\n",
      "Invoice Number Null: 4.17 %\n",
      "Amount Null: 8.33 %\n",
      "Invoice Date Null: 8.33 %\n",
      "Vendor Accuracy (excluding Null): 90.48 %\n",
      "Invoice Number Accuracy (excluding Null): 100.00 %\n",
      "Amount Accuracy (excluding Null): 90.91 %\n",
      "Invoice Date Accuracy (excluding Null): 95.45 %\n"
     ]
    }
   ],
   "source": [
    "n = len(test_results_pdf.index)\n",
    "vendor_nan = test_results_pdf.loc[test_results_pdf[\"Correct Vendor\"]==False,\"Extracted Vendor\"].value_counts().get(\"nan\",0)\n",
    "number_nan = test_results_pdf.loc[test_results_pdf[\"Correct Invoice Number\"]==False,\"Extracted Invoice Number\"].value_counts().get(\"nan\",0)\n",
    "amount_nan = test_results_pdf.loc[test_results_pdf[\"Correct Amount\"]==False,\"Extracted Amount\"].value_counts().get(\"nan\",0)\n",
    "date_nan = test_results_pdf[\"Extracted Invoice Date\"].isna().sum()\n",
    "vendor_acc = (test_results_pdf[\"Correct Vendor\"].sum() / (n-vendor_nan)) * 100\n",
    "number_acc = (test_results_pdf[\"Correct Invoice Number\"].sum() / (n-number_nan)) * 100\n",
    "amount_acc = (test_results_pdf[\"Correct Amount\"].sum() / (n-amount_nan)) * 100\n",
    "date_acc = (test_results_pdf[\"Correct Invoice Date\"].sum() / (n-date_nan)) * 100\n",
    "print(\"Test Set PDF\")\n",
    "print(f\"Vendor Null: {(vendor_nan/n)*100:.2f} %\")\n",
    "print(f\"Invoice Number Null: {(number_nan/n)*100:.2f} %\")\n",
    "print(f\"Amount Null: {(amount_nan/n)*100:.2f} %\")\n",
    "print(f\"Invoice Date Null: {(date_nan/n)*100:.2f} %\")\n",
    "print(f\"Vendor Accuracy (excluding Null): {vendor_acc:.2f} %\")\n",
    "print(f\"Invoice Number Accuracy (excluding Null): {number_acc:.2f} %\")\n",
    "print(f\"Amount Accuracy (excluding Null): {amount_acc:.2f} %\")\n",
    "print(f\"Invoice Date Accuracy (excluding Null): {date_acc:.2f} %\")"
   ]
  },
  {
   "cell_type": "code",
   "execution_count": 130,
   "metadata": {},
   "outputs": [
    {
     "name": "stdout",
     "output_type": "stream",
     "text": [
      "Test Set scan\n",
      "Vendor Null: 3.85 %\n",
      "Invoice Number Null: 7.69 %\n",
      "Amount Null: 3.85 %\n",
      "Invoice Date Null: 7.69 %\n",
      "Vendor Accuracy (excluding Null): 76.00 %\n",
      "Invoice Number Accuracy (excluding Null): 87.50 %\n",
      "Amount Accuracy (excluding Null): 96.00 %\n",
      "Invoice Date Accuracy (excluding Null): 100.00 %\n"
     ]
    }
   ],
   "source": [
    "n = len(test_results_scan.index)\n",
    "vendor_nan = test_results_scan.loc[test_results_scan[\"Correct Vendor\"]==False,\"Extracted Vendor\"].value_counts().get(\"nan\",0)\n",
    "number_nan = test_results_scan.loc[test_results_scan[\"Correct Invoice Number\"]==False,\"Extracted Invoice Number\"].value_counts().get(\"nan\",0)\n",
    "amount_nan = test_results_scan.loc[test_results_scan[\"Correct Amount\"]==False,\"Extracted Amount\"].value_counts().get(\"nan\",0)\n",
    "date_nan = test_results_scan[\"Extracted Invoice Date\"].isna().sum()\n",
    "vendor_acc = (test_results_scan[\"Correct Vendor\"].sum() / (n-vendor_nan)) * 100\n",
    "number_acc = (test_results_scan[\"Correct Invoice Number\"].sum() / (n-number_nan)) * 100\n",
    "amount_acc = (test_results_scan[\"Correct Amount\"].sum() / (n-amount_nan)) * 100\n",
    "date_acc = (test_results_scan[\"Correct Invoice Date\"].sum() / (n-date_nan)) * 100\n",
    "print(\"Test Set scan\")\n",
    "print(f\"Vendor Null: {(vendor_nan/n)*100:.2f} %\")\n",
    "print(f\"Invoice Number Null: {(number_nan/n)*100:.2f} %\")\n",
    "print(f\"Amount Null: {(amount_nan/n)*100:.2f} %\")\n",
    "print(f\"Invoice Date Null: {(date_nan/n)*100:.2f} %\")\n",
    "print(f\"Vendor Accuracy (excluding Null): {vendor_acc:.2f} %\")\n",
    "print(f\"Invoice Number Accuracy (excluding Null): {number_acc:.2f} %\")\n",
    "print(f\"Amount Accuracy (excluding Null): {amount_acc:.2f} %\")\n",
    "print(f\"Invoice Date Accuracy (excluding Null): {date_acc:.2f} %\")"
   ]
  },
  {
   "cell_type": "code",
   "execution_count": 131,
   "metadata": {},
   "outputs": [
    {
     "name": "stdout",
     "output_type": "stream",
     "text": [
      "Benchmark complete\n",
      "Vendor Null: 12.00 %\n",
      "Invoice Number Null: 22.00 %\n",
      "Amount Null: 8.00 %\n",
      "Invoice Date Null: 12.00 %\n",
      "Vendor Accuracy (excluding Null): 86.36 %\n",
      "Invoice Number Accuracy (excluding Null): 100.00 %\n",
      "Amount Accuracy (excluding Null): 97.83 %\n",
      "Invoice Date Accuracy (excluding Null): 95.45 %\n"
     ]
    }
   ],
   "source": [
    "n = len(benchmark.index)\n",
    "vendor_nan = benchmark.loc[benchmark[\"Correct Vendor\"]==False,\"Extracted Vendor\"].value_counts().get(\"nan\",0)\n",
    "number_nan = benchmark.loc[benchmark[\"Correct Invoice Number\"]==False,\"Extracted Invoice Number\"].value_counts().get(\"nan\",0)\n",
    "amount_nan = benchmark.loc[benchmark[\"Correct Amount\"]==False,\"Extracted Amount\"].value_counts().get(\"nan\",0)\n",
    "date_nan = benchmark[\"Extracted Invoice Date\"].isna().sum()\n",
    "vendor_acc = (benchmark[\"Correct Vendor\"].sum() / (n-vendor_nan)) * 100\n",
    "number_acc = (benchmark[\"Correct Invoice Number\"].sum() / (n-number_nan)) * 100\n",
    "amount_acc = (benchmark[\"Correct Amount\"].sum() / (n-amount_nan)) * 100\n",
    "date_acc = (benchmark[\"Correct Invoice Date\"].sum() / (n-date_nan)) * 100\n",
    "print(\"Benchmark complete\")\n",
    "print(f\"Vendor Null: {(vendor_nan/n)*100:.2f} %\")\n",
    "print(f\"Invoice Number Null: {(number_nan/n)*100:.2f} %\")\n",
    "print(f\"Amount Null: {(amount_nan/n)*100:.2f} %\")\n",
    "print(f\"Invoice Date Null: {(date_nan/n)*100:.2f} %\")\n",
    "print(f\"Vendor Accuracy (excluding Null): {vendor_acc:.2f} %\")\n",
    "print(f\"Invoice Number Accuracy (excluding Null): {number_acc:.2f} %\")\n",
    "print(f\"Amount Accuracy (excluding Null): {amount_acc:.2f} %\")\n",
    "print(f\"Invoice Date Accuracy (excluding Null): {date_acc:.2f} %\")"
   ]
  },
  {
   "cell_type": "code",
   "execution_count": 132,
   "metadata": {},
   "outputs": [
    {
     "name": "stdout",
     "output_type": "stream",
     "text": [
      "Benchmark PDF\n",
      "Vendor Null: 12.50 %\n",
      "Invoice Number Null: 12.50 %\n",
      "Amount Null: 12.50 %\n",
      "Invoice Date Null: 12.50 %\n",
      "Vendor Accuracy (excluding Null): 100.00 %\n",
      "Invoice Number Accuracy (excluding Null): 100.00 %\n",
      "Amount Accuracy (excluding Null): 100.00 %\n",
      "Invoice Date Accuracy (excluding Null): 95.24 %\n"
     ]
    }
   ],
   "source": [
    "n = len(benchmark_pdf.index)\n",
    "vendor_nan = benchmark_pdf.loc[benchmark_pdf[\"Correct Vendor\"]==False,\"Extracted Vendor\"].value_counts().get(\"nan\",0)\n",
    "number_nan = benchmark_pdf.loc[benchmark_pdf[\"Correct Invoice Number\"]==False,\"Extracted Invoice Number\"].value_counts().get(\"nan\",0)\n",
    "amount_nan = benchmark_pdf.loc[benchmark_pdf[\"Correct Amount\"]==False,\"Extracted Amount\"].value_counts().get(\"nan\",0)\n",
    "date_nan = benchmark_pdf[\"Extracted Invoice Date\"].isna().sum()\n",
    "vendor_acc = (benchmark_pdf[\"Correct Vendor\"].sum() / (n-vendor_nan)) * 100\n",
    "number_acc = (benchmark_pdf[\"Correct Invoice Number\"].sum() / (n-number_nan)) * 100\n",
    "amount_acc = (benchmark_pdf[\"Correct Amount\"].sum() / (n-amount_nan)) * 100\n",
    "date_acc = (benchmark_pdf[\"Correct Invoice Date\"].sum() / (n-date_nan)) * 100\n",
    "print(\"Benchmark PDF\")\n",
    "print(f\"Vendor Null: {(vendor_nan/n)*100:.2f} %\")\n",
    "print(f\"Invoice Number Null: {(number_nan/n)*100:.2f} %\")\n",
    "print(f\"Amount Null: {(amount_nan/n)*100:.2f} %\")\n",
    "print(f\"Invoice Date Null: {(date_nan/n)*100:.2f} %\")\n",
    "print(f\"Vendor Accuracy (excluding Null): {vendor_acc:.2f} %\")\n",
    "print(f\"Invoice Number Accuracy (excluding Null): {number_acc:.2f} %\")\n",
    "print(f\"Amount Accuracy (excluding Null): {amount_acc:.2f} %\")\n",
    "print(f\"Invoice Date Accuracy (excluding Null): {date_acc:.2f} %\")"
   ]
  },
  {
   "cell_type": "code",
   "execution_count": 133,
   "metadata": {},
   "outputs": [
    {
     "name": "stdout",
     "output_type": "stream",
     "text": [
      "Benchmark Scan\n",
      "Vendor Null: 11.54 %\n",
      "Invoice Number Null: 30.77 %\n",
      "Amount Null: 3.85 %\n",
      "Invoice Date Null: 11.54 %\n",
      "Vendor Accuracy (excluding Null): 73.91 %\n",
      "Invoice Number Accuracy (excluding Null): 100.00 %\n",
      "Amount Accuracy (excluding Null): 96.00 %\n",
      "Invoice Date Accuracy (excluding Null): 95.65 %\n"
     ]
    }
   ],
   "source": [
    "n = len(benchmark_scan.index)\n",
    "vendor_nan = benchmark_scan.loc[benchmark_scan[\"Correct Vendor\"]==False,\"Extracted Vendor\"].value_counts().get(\"nan\",0)\n",
    "number_nan = benchmark_scan.loc[benchmark_scan[\"Correct Invoice Number\"]==False,\"Extracted Invoice Number\"].value_counts().get(\"nan\",0)\n",
    "amount_nan = benchmark_scan.loc[benchmark_scan[\"Correct Amount\"]==False,\"Extracted Amount\"].value_counts().get(\"nan\",0)\n",
    "date_nan = benchmark_scan[\"Extracted Invoice Date\"].isna().sum()\n",
    "vendor_acc = (benchmark_scan[\"Correct Vendor\"].sum() / (n-vendor_nan)) * 100\n",
    "number_acc = (benchmark_scan[\"Correct Invoice Number\"].sum() / (n-number_nan)) * 100\n",
    "amount_acc = (benchmark_scan[\"Correct Amount\"].sum() / (n-amount_nan)) * 100\n",
    "date_acc = (benchmark_scan[\"Correct Invoice Date\"].sum() / (n-date_nan)) * 100\n",
    "print(\"Benchmark Scan\")\n",
    "print(f\"Vendor Null: {(vendor_nan/n)*100:.2f} %\")\n",
    "print(f\"Invoice Number Null: {(number_nan/n)*100:.2f} %\")\n",
    "print(f\"Amount Null: {(amount_nan/n)*100:.2f} %\")\n",
    "print(f\"Invoice Date Null: {(date_nan/n)*100:.2f} %\")\n",
    "print(f\"Vendor Accuracy (excluding Null): {vendor_acc:.2f} %\")\n",
    "print(f\"Invoice Number Accuracy (excluding Null): {number_acc:.2f} %\")\n",
    "print(f\"Amount Accuracy (excluding Null): {amount_acc:.2f} %\")\n",
    "print(f\"Invoice Date Accuracy (excluding Null): {date_acc:.2f} %\")"
   ]
  }
 ],
 "metadata": {
  "kernelspec": {
   "display_name": "base",
   "language": "python",
   "name": "python3"
  },
  "language_info": {
   "codemirror_mode": {
    "name": "ipython",
    "version": 3
   },
   "file_extension": ".py",
   "mimetype": "text/x-python",
   "name": "python",
   "nbconvert_exporter": "python",
   "pygments_lexer": "ipython3",
   "version": "3.8.18"
  }
 },
 "nbformat": 4,
 "nbformat_minor": 2
}
