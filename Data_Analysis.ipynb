{
 "cells": [
  {
   "cell_type": "code",
   "execution_count": 1,
   "metadata": {},
   "outputs": [],
   "source": [
    "import pandas as pd\n",
    "import numpy as np\n",
    "\n",
    "from os import listdir"
   ]
  },
  {
   "cell_type": "code",
   "execution_count": null,
   "metadata": {},
   "outputs": [
    {
     "data": {
      "text/html": [
       "<div>\n",
       "<style scoped>\n",
       "    .dataframe tbody tr th:only-of-type {\n",
       "        vertical-align: middle;\n",
       "    }\n",
       "\n",
       "    .dataframe tbody tr th {\n",
       "        vertical-align: top;\n",
       "    }\n",
       "\n",
       "    .dataframe thead th {\n",
       "        text-align: right;\n",
       "    }\n",
       "</style>\n",
       "<table border=\"1\" class=\"dataframe\">\n",
       "  <thead>\n",
       "    <tr style=\"text-align: right;\">\n",
       "      <th></th>\n",
       "      <th>File</th>\n",
       "      <th>Vendor</th>\n",
       "      <th>Invoice Number</th>\n",
       "      <th>Amount</th>\n",
       "      <th>Invoice Date</th>\n",
       "    </tr>\n",
       "  </thead>\n",
       "  <tbody>\n",
       "    <tr>\n",
       "      <th>0</th>\n",
       "      <td>AH_Siedle_Reifenwechsel_24042020.pdf</td>\n",
       "      <td>Autohaus Siedle</td>\n",
       "      <td>110024940</td>\n",
       "      <td>79,85</td>\n",
       "      <td>04/24/2020</td>\n",
       "    </tr>\n",
       "    <tr>\n",
       "      <th>1</th>\n",
       "      <td>ALU_RAHMEN_Rechnung_27112023.pdf</td>\n",
       "      <td>Alurahmen24</td>\n",
       "      <td>1164/11/2023</td>\n",
       "      <td>23,7</td>\n",
       "      <td>11/27/2023</td>\n",
       "    </tr>\n",
       "    <tr>\n",
       "      <th>2</th>\n",
       "      <td>Amazon_GaN_Charger_13102022.pdf</td>\n",
       "      <td>Amazon Service Europe</td>\n",
       "      <td>NaN</td>\n",
       "      <td>47,99</td>\n",
       "      <td>10/13/2022</td>\n",
       "    </tr>\n",
       "    <tr>\n",
       "      <th>3</th>\n",
       "      <td>Amazon_USB_Flash_Drive_24102022.pdf</td>\n",
       "      <td>Amazon EU Sarl</td>\n",
       "      <td>NaN</td>\n",
       "      <td>20,39</td>\n",
       "      <td>10/24/2022</td>\n",
       "    </tr>\n",
       "    <tr>\n",
       "      <th>4</th>\n",
       "      <td>Aral_Center_Hildesheim_05032020.pdf</td>\n",
       "      <td>Aral Center Hildesheim</td>\n",
       "      <td>4605/009/00003</td>\n",
       "      <td>68,84</td>\n",
       "      <td>03/05/2020</td>\n",
       "    </tr>\n",
       "  </tbody>\n",
       "</table>\n",
       "</div>"
      ],
      "text/plain": [
       "                                   File                  Vendor  \\\n",
       "0  AH_Siedle_Reifenwechsel_24042020.pdf         Autohaus Siedle   \n",
       "1      ALU_RAHMEN_Rechnung_27112023.pdf             Alurahmen24   \n",
       "2       Amazon_GaN_Charger_13102022.pdf   Amazon Service Europe   \n",
       "3   Amazon_USB_Flash_Drive_24102022.pdf          Amazon EU Sarl   \n",
       "4   Aral_Center_Hildesheim_05032020.pdf  Aral Center Hildesheim   \n",
       "\n",
       "   Invoice Number Amount Invoice Date  \n",
       "0       110024940  79,85   04/24/2020  \n",
       "1    1164/11/2023   23,7   11/27/2023  \n",
       "2             NaN  47,99   10/13/2022  \n",
       "3             NaN  20,39   10/24/2022  \n",
       "4  4605/009/00003  68,84   03/05/2020  "
      ]
     },
     "execution_count": 23,
     "metadata": {},
     "output_type": "execute_result"
    }
   ],
   "source": [
    "#file_list = set(listdir(\"C:/Users/paul8/Documents/Uni/7. Thesis/Thesis/paul\"))\n",
    "db = pd.read_csv(\"C:/Users/paul8/Downloads/DB.csv\",delimiter=\";\")\n",
    "#file_list_db = set(db.File)\n",
    "#len(file_list.intersection(file_list_db))\n",
    "def make_date(s):\n",
    "    s = str(s)\n",
    "    if len(s) == 5:\n",
    "        s = \"0\" + s\n",
    "    return s[:2] + \"/\" + s[2:4] + \"/20\" + s[4:]\n",
    "db[\"Invoice Date\"] = db[\"Invoice Date\"].map(make_date)\n",
    "db.head()\n",
    "        \n"
   ]
  },
  {
   "cell_type": "code",
   "execution_count": null,
   "metadata": {},
   "outputs": [
    {
     "data": {
      "text/plain": [
       "True"
      ]
     },
     "execution_count": 26,
     "metadata": {},
     "output_type": "execute_result"
    }
   ],
   "source": [
    "#file_list_db == file_list"
   ]
  },
  {
   "cell_type": "code",
   "execution_count": 65,
   "metadata": {},
   "outputs": [
    {
     "data": {
      "text/html": [
       "<div>\n",
       "<style scoped>\n",
       "    .dataframe tbody tr th:only-of-type {\n",
       "        vertical-align: middle;\n",
       "    }\n",
       "\n",
       "    .dataframe tbody tr th {\n",
       "        vertical-align: top;\n",
       "    }\n",
       "\n",
       "    .dataframe thead th {\n",
       "        text-align: right;\n",
       "    }\n",
       "</style>\n",
       "<table border=\"1\" class=\"dataframe\">\n",
       "  <thead>\n",
       "    <tr style=\"text-align: right;\">\n",
       "      <th></th>\n",
       "      <th>File</th>\n",
       "      <th>Extracted Vendor</th>\n",
       "      <th>Extracted Invoice Number</th>\n",
       "      <th>Extracted Amount</th>\n",
       "      <th>Extracted Invoice Date</th>\n",
       "    </tr>\n",
       "  </thead>\n",
       "  <tbody>\n",
       "    <tr>\n",
       "      <th>0</th>\n",
       "      <td>B24_Rechnung 50046676.pdf</td>\n",
       "      <td>BIKE24 Bike24 GmbH Bike24 GmbH</td>\n",
       "      <td>50046676</td>\n",
       "      <td>NaN</td>\n",
       "      <td>04/24/2021 00:00:000</td>\n",
       "    </tr>\n",
       "  </tbody>\n",
       "</table>\n",
       "</div>"
      ],
      "text/plain": [
       "                        File                Extracted Vendor  \\\n",
       "0  B24_Rechnung 50046676.pdf  BIKE24 Bike24 GmbH Bike24 GmbH   \n",
       "\n",
       "  Extracted Invoice Number Extracted Amount Extracted Invoice Date  \n",
       "0                 50046676              NaN   04/24/2021 00:00:000  "
      ]
     },
     "execution_count": 65,
     "metadata": {},
     "output_type": "execute_result"
    }
   ],
   "source": [
    "data = pd.DataFrame(columns=[\"File\",\"Extracted Vendor\",\"Extracted Invoice Number\",\"Extracted Amount\",\"Extracted Invoice Date\"])\n",
    "folder = \"./Results/\"\n",
    "files = listdir(folder)\n",
    "for file in files:\n",
    "    path = folder + file\n",
    "    data_new = pd.read_csv(path, sep=';', header=None)\n",
    "    data_new.columns = [\"File\",\"Extracted Vendor\",\"Extracted Invoice Number\",\"Extracted Amount\",\"Extracted Invoice Date\"]\n",
    "    #print(data_new.dtypes)\n",
    "    data = data._append(data_new,ignore_index=True)\n",
    "data.head()"
   ]
  },
  {
   "cell_type": "code",
   "execution_count": null,
   "metadata": {},
   "outputs": [
    {
     "data": {
      "text/html": [
       "<div>\n",
       "<style scoped>\n",
       "    .dataframe tbody tr th:only-of-type {\n",
       "        vertical-align: middle;\n",
       "    }\n",
       "\n",
       "    .dataframe tbody tr th {\n",
       "        vertical-align: top;\n",
       "    }\n",
       "\n",
       "    .dataframe thead th {\n",
       "        text-align: right;\n",
       "    }\n",
       "</style>\n",
       "<table border=\"1\" class=\"dataframe\">\n",
       "  <thead>\n",
       "    <tr style=\"text-align: right;\">\n",
       "      <th></th>\n",
       "      <th>File</th>\n",
       "      <th>Extracted Vendor</th>\n",
       "      <th>Extracted Invoice Number</th>\n",
       "      <th>Extracted Amount</th>\n",
       "      <th>Extracted Invoice Date</th>\n",
       "    </tr>\n",
       "  </thead>\n",
       "  <tbody>\n",
       "    <tr>\n",
       "      <th>0</th>\n",
       "      <td>B24_Rechnung 50046676.pdf</td>\n",
       "      <td>BIKE24 Bike24 GmbH Bike24 GmbH</td>\n",
       "      <td>50046676</td>\n",
       "      <td>NaN</td>\n",
       "      <td>04/24/2021</td>\n",
       "    </tr>\n",
       "  </tbody>\n",
       "</table>\n",
       "</div>"
      ],
      "text/plain": [
       "                        File                Extracted Vendor  \\\n",
       "0  B24_Rechnung 50046676.pdf  BIKE24 Bike24 GmbH Bike24 GmbH   \n",
       "\n",
       "  Extracted Invoice Number Extracted Amount Extracted Invoice Date  \n",
       "0                 50046676              NaN             04/24/2021  "
      ]
     },
     "execution_count": 66,
     "metadata": {},
     "output_type": "execute_result"
    }
   ],
   "source": [
    "data[\"Extracted Invoice Date\"] = data[\"Extracted Invoice Date\"].map(lambda x:x.split(\" \")[0],na_action=\"ignore\")\n",
    "data[\"Extracted Invoice Number\"] = data[\"Extracted Invoice Number\"].map(lambda x:str(x),na_action=\"ignore\")\n",
    "data[\"Extracted Amount\"] = data[\"Extracted Amount\"].map(lambda x:str(x),na_action=\"ignore\")\n",
    "\n",
    "data.head()\n"
   ]
  },
  {
   "cell_type": "code",
   "execution_count": null,
   "metadata": {},
   "outputs": [
    {
     "data": {
      "text/html": [
       "<div>\n",
       "<style scoped>\n",
       "    .dataframe tbody tr th:only-of-type {\n",
       "        vertical-align: middle;\n",
       "    }\n",
       "\n",
       "    .dataframe tbody tr th {\n",
       "        vertical-align: top;\n",
       "    }\n",
       "\n",
       "    .dataframe thead th {\n",
       "        text-align: right;\n",
       "    }\n",
       "</style>\n",
       "<table border=\"1\" class=\"dataframe\">\n",
       "  <thead>\n",
       "    <tr style=\"text-align: right;\">\n",
       "      <th></th>\n",
       "      <th>Extracted Vendor</th>\n",
       "      <th>Extracted Invoice Number</th>\n",
       "      <th>Extracted Amount</th>\n",
       "      <th>Extracted Invoice Date</th>\n",
       "      <th>Vendor</th>\n",
       "      <th>Invoice Number</th>\n",
       "      <th>Amount</th>\n",
       "      <th>Invoice Date</th>\n",
       "    </tr>\n",
       "    <tr>\n",
       "      <th>File</th>\n",
       "      <th></th>\n",
       "      <th></th>\n",
       "      <th></th>\n",
       "      <th></th>\n",
       "      <th></th>\n",
       "      <th></th>\n",
       "      <th></th>\n",
       "      <th></th>\n",
       "    </tr>\n",
       "  </thead>\n",
       "  <tbody>\n",
       "    <tr>\n",
       "      <th>B24_Rechnung 50046676.pdf</th>\n",
       "      <td>BIKE24 Bike24 GmbH Bike24 GmbH</td>\n",
       "      <td>50046676</td>\n",
       "      <td>NaN</td>\n",
       "      <td>04/24/2021</td>\n",
       "      <td>Bike24</td>\n",
       "      <td>50046676</td>\n",
       "      <td>340,53</td>\n",
       "      <td>04/24/2021</td>\n",
       "    </tr>\n",
       "  </tbody>\n",
       "</table>\n",
       "</div>"
      ],
      "text/plain": [
       "                                         Extracted Vendor  \\\n",
       "File                                                        \n",
       "B24_Rechnung 50046676.pdf  BIKE24 Bike24 GmbH Bike24 GmbH   \n",
       "\n",
       "                          Extracted Invoice Number Extracted Amount  \\\n",
       "File                                                                  \n",
       "B24_Rechnung 50046676.pdf                 50046676              NaN   \n",
       "\n",
       "                          Extracted Invoice Date  Vendor Invoice Number  \\\n",
       "File                                                                      \n",
       "B24_Rechnung 50046676.pdf             04/24/2021  Bike24       50046676   \n",
       "\n",
       "                           Amount Invoice Date  \n",
       "File                                            \n",
       "B24_Rechnung 50046676.pdf  340,53   04/24/2021  "
      ]
     },
     "execution_count": 67,
     "metadata": {},
     "output_type": "execute_result"
    }
   ],
   "source": [
    "results = data.set_index(\"File\").join(db.set_index(\"File\"),how=\"inner\")\n",
    "results.head()"
   ]
  },
  {
   "cell_type": "code",
   "execution_count": null,
   "metadata": {},
   "outputs": [
    {
     "data": {
      "text/html": [
       "<div>\n",
       "<style scoped>\n",
       "    .dataframe tbody tr th:only-of-type {\n",
       "        vertical-align: middle;\n",
       "    }\n",
       "\n",
       "    .dataframe tbody tr th {\n",
       "        vertical-align: top;\n",
       "    }\n",
       "\n",
       "    .dataframe thead th {\n",
       "        text-align: right;\n",
       "    }\n",
       "</style>\n",
       "<table border=\"1\" class=\"dataframe\">\n",
       "  <thead>\n",
       "    <tr style=\"text-align: right;\">\n",
       "      <th></th>\n",
       "      <th>Extracted Vendor</th>\n",
       "      <th>Extracted Invoice Number</th>\n",
       "      <th>Extracted Amount</th>\n",
       "      <th>Extracted Invoice Date</th>\n",
       "      <th>Vendor</th>\n",
       "      <th>Invoice Number</th>\n",
       "      <th>Amount</th>\n",
       "      <th>Invoice Date</th>\n",
       "      <th>Correct Vendor</th>\n",
       "      <th>Correct Invoice Number</th>\n",
       "      <th>Correct Amount</th>\n",
       "      <th>Correct Invoice Date</th>\n",
       "    </tr>\n",
       "    <tr>\n",
       "      <th>File</th>\n",
       "      <th></th>\n",
       "      <th></th>\n",
       "      <th></th>\n",
       "      <th></th>\n",
       "      <th></th>\n",
       "      <th></th>\n",
       "      <th></th>\n",
       "      <th></th>\n",
       "      <th></th>\n",
       "      <th></th>\n",
       "      <th></th>\n",
       "      <th></th>\n",
       "    </tr>\n",
       "  </thead>\n",
       "  <tbody>\n",
       "    <tr>\n",
       "      <th>B24_Rechnung 50046676.pdf</th>\n",
       "      <td>BIKE24 Bike24 GmbH Bike24 GmbH</td>\n",
       "      <td>50046676</td>\n",
       "      <td>NaN</td>\n",
       "      <td>04/24/2021</td>\n",
       "      <td>Bike24</td>\n",
       "      <td>50046676</td>\n",
       "      <td>340,53</td>\n",
       "      <td>04/24/2021</td>\n",
       "      <td>True</td>\n",
       "      <td>True</td>\n",
       "      <td>False</td>\n",
       "      <td>True</td>\n",
       "    </tr>\n",
       "  </tbody>\n",
       "</table>\n",
       "</div>"
      ],
      "text/plain": [
       "                                         Extracted Vendor  \\\n",
       "File                                                        \n",
       "B24_Rechnung 50046676.pdf  BIKE24 Bike24 GmbH Bike24 GmbH   \n",
       "\n",
       "                          Extracted Invoice Number Extracted Amount  \\\n",
       "File                                                                  \n",
       "B24_Rechnung 50046676.pdf                 50046676              NaN   \n",
       "\n",
       "                          Extracted Invoice Date  Vendor Invoice Number  \\\n",
       "File                                                                      \n",
       "B24_Rechnung 50046676.pdf             04/24/2021  Bike24       50046676   \n",
       "\n",
       "                           Amount Invoice Date  Correct Vendor  \\\n",
       "File                                                             \n",
       "B24_Rechnung 50046676.pdf  340,53   04/24/2021            True   \n",
       "\n",
       "                           Correct Invoice Number  Correct Amount  \\\n",
       "File                                                                \n",
       "B24_Rechnung 50046676.pdf                    True           False   \n",
       "\n",
       "                           Correct Invoice Date  \n",
       "File                                             \n",
       "B24_Rechnung 50046676.pdf                  True  "
      ]
     },
     "execution_count": 68,
     "metadata": {},
     "output_type": "execute_result"
    }
   ],
   "source": [
    "results[\"Correct Vendor\"] = results[\"Extracted Vendor\"] == results[\"Vendor\"] \n",
    "for file,ext_ven,ven in zip(results.index, results[\"Extracted Vendor\"], results[\"Vendor\"]):\n",
    "    results.loc[file,\"Correct Vendor\"] = ext_ven in ven or ven in ext_ven\n",
    "results[\"Correct Invoice Number\"] = results[\"Extracted Invoice Number\"] == results[\"Invoice Number\"]\n",
    "results[\"Correct Amount\"] = results[\"Extracted Amount\"] == results[\"Amount\"]\n",
    "results[\"Correct Invoice Date\"] = results[\"Extracted Invoice Date\"] == results[\"Invoice Date\"]\n",
    "results.head()"
   ]
  },
  {
   "cell_type": "code",
   "execution_count": 72,
   "metadata": {},
   "outputs": [
    {
     "name": "stdout",
     "output_type": "stream",
     "text": [
      "Vendor Accuracy: 100.0 %\n",
      "Invoice Number Accuracy: 100.0 %\n",
      "Amount Accuracy: 0.0 %\n",
      "Invoice Date Accuracy: 100.0 %\n"
     ]
    }
   ],
   "source": [
    "n = len(results.index)\n",
    "vendor_acc = (results[\"Correct Vendor\"].sum() / n) * 100\n",
    "number_acc = (results[\"Correct Invoice Number\"].sum() / n) * 100\n",
    "amount_acc = (results[\"Correct Amount\"].sum() / n) * 100\n",
    "date_acc = (results[\"Correct Invoice Date\"].sum() / n) * 100\n",
    "print(f\"Vendor Accuracy: {vendor_acc} %\")\n",
    "print(f\"Invoice Number Accuracy: {number_acc} %\")\n",
    "print(f\"Amount Accuracy: {amount_acc} %\")\n",
    "print(f\"Invoice Date Accuracy: {date_acc} %\")\n"
   ]
  }
 ],
 "metadata": {
  "kernelspec": {
   "display_name": "base",
   "language": "python",
   "name": "python3"
  },
  "language_info": {
   "codemirror_mode": {
    "name": "ipython",
    "version": 3
   },
   "file_extension": ".py",
   "mimetype": "text/x-python",
   "name": "python",
   "nbconvert_exporter": "python",
   "pygments_lexer": "ipython3",
   "version": "3.8.18"
  }
 },
 "nbformat": 4,
 "nbformat_minor": 2
}
